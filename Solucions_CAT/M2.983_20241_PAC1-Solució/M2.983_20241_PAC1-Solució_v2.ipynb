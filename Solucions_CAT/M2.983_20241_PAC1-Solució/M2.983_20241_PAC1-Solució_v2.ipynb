{
 "cells": [
  {
   "cell_type": "markdown",
   "metadata": {
    "id": "hkkr1HUBPOcL"
   },
   "source": [
    "<div style=\"width: 100%; clear: both;\">\n",
    "<div style=\"float: left; width: 50%;\">\n",
    "<img src=\"http://www.uoc.edu/portal/_resources/common/imatges/marca_UOC/UOC_Masterbrand.jpg\", align=\"left\">\n",
    "</div>\n",
    "<div style=\"float: right; width: 50%;\">\n",
    "<p style=\"margin: 0; padding-top: 22px; text-align:right;\">M2.983 · Aprenentage per reforç</p>\n",
    "<p style=\"margin: 0; text-align:right;\">2024-1 · Màster universitari en Ciència de dades (<i>Data science</i>)</p>\n",
    "<p style=\"margin: 0; text-align:right; padding-button: 100px;\">Estudis d'Informàtica, Multimèdia i Telecomunicació</p>\n",
    "</div>\n",
    "</div>\n",
    "<div style=\"width:100%;\">&nbsp;</div>"
   ]
  },
  {
   "cell_type": "markdown",
   "metadata": {
    "id": "yEcTs47Ao6C9"
   },
   "source": [
    "<div class=\"alert alert-block alert-info\">\n",
    "    <strong>Nombre y apellidos:</strong> Indicar aquí el nombre y apellidos\n",
    "</div>"
   ]
  },
  {
   "cell_type": "markdown",
   "metadata": {
    "id": "GFR_J-YYXLx-",
    "jupyter": {
     "source_hidden": true
    }
   },
   "source": [
    "# PAC 1 - Solucions tabulars\n",
    "\n",
    "En aquesta pràctica implementarem els diferents mètodes d'aprenentatge per reforç estudiats als Blocs I i II del curs. En concret, ens centrarem en la definició d'un entorn i implementarem els diferents mètodes per buscar una solució òptima del problema.\n",
    "\n",
    "**<u>Important</u>: El lliurament s'ha de fer en format notebook i en format html on es vegi el codi, els resultats i comentaris de cada exercici. És a dir, s'han de lliurar dos fitxers: un amb extensió .ipynb i un altre .html. Per exportar el notebook a html pot fer-se des del menú File $\\to$ Download as $\\to$ HTML. A més s'han de lliurar els 2 arxius que es modificaran dins de la carpeta <code>\\gym_gridworlds</code>, els arxius <code>gridworld.py</code> i <code>\\_\\_init\\_\\_.py</code>.**\n"
   ]
  },
  {
   "cell_type": "markdown",
   "metadata": {
    "id": "CyFUy1qlDGku"
   },
   "source": [
    "## 1. L'entorn __Gym-Gridworlds__ (1 punt)\n",
    "\n",
    "L'entorn __Gym-Gridworlds__ és un entorn de tercers que es troba referenciat a la web de Gymnasium, concretament a l'apartat 'ENVIRONMENTS/External Environments'.\n",
    "\n",
    "L'entorn consisteix en un agent que es mou en una quadrícula de dimensions configurables. La classe per defecte `Gridworld` implementa una tasca \"anar a l'objectiu\" on l'agent té cinc accions (esquerra, dreta, amunt, avall, romandre al lloc) i una funció de transició predeterminada (seleccionar l'acció \"romandre al lloc\" als estats objectiu acaba l'episodi).\n",
    "\n",
    "El codi i la documentació es troba a https://github.com/sparisi/gym_gridworlds\n",
    "\n",
    "Es recomana llegir atentament la pàgina per familiaritzar-se amb l'entorn.\n",
    "\n",
    "**<u>Nota</u>: L'entorn utilitzat té un mode de renderitzat <code>render\\_mode = \"human\"</code> que permet observar la quadrícula i el moviment de l'agent en una pantalla adicional utiltzant el paquet <code>pygame</code> de python. Aquest mode de renderitzat només funciona en local. Per a poder executar el codi sense problemes es proporciona un arxiu <code>environment.yml</code> perquè pugueu crear un entorn virtual amb els paquets necessaris.**"
   ]
  },
  {
   "cell_type": "markdown",
   "metadata": {
    "id": "PBkO2FuFJdH-"
   },
   "source": [
    "Començarem carregant un dels múltiples entorns pre-dissenyats i veurem les seves principals característiques, executant un episodi de prova."
   ]
  },
  {
   "cell_type": "markdown",
   "metadata": {
    "id": "MBrIWvZmDB6H"
   },
   "source": [
    "### 1.1. Càrrega de dades (0.5 punts)\n",
    "\n",
    "El següent codi carrega els paquets necessaris per a l'exemple.\n",
    "\n",
    "Comencem instal·lant Gymnasium (això només s'ha de fer una vegada si no ho teniu instal·lat ja)."
   ]
  },
  {
   "cell_type": "code",
   "execution_count": 1,
   "metadata": {
    "colab": {
     "base_uri": "https://localhost:8080/"
    },
    "executionInfo": {
     "elapsed": 7035,
     "status": "ok",
     "timestamp": 1729206552620,
     "user": {
      "displayName": "Luis Esteve Elfau",
      "userId": "04659768458370690763"
     },
     "user_tz": -120
    },
    "id": "qMuA4JjZXLx_",
    "outputId": "99100ad3-caf9-4cfe-9636-d02536659505"
   },
   "outputs": [
    {
     "name": "stdout",
     "output_type": "stream",
     "text": [
      "Requirement already satisfied: gymnasium==1.0.0 in c:\\users\\birth\\anaconda3\\envs\\rl_2024_pac1\\lib\\site-packages (1.0.0)\n",
      "Requirement already satisfied: numpy>=1.21.0 in c:\\users\\birth\\anaconda3\\envs\\rl_2024_pac1\\lib\\site-packages (from gymnasium==1.0.0) (1.26.4)\n",
      "Requirement already satisfied: cloudpickle>=1.2.0 in c:\\users\\birth\\anaconda3\\envs\\rl_2024_pac1\\lib\\site-packages (from gymnasium==1.0.0) (3.1.0)\n",
      "Requirement already satisfied: typing-extensions>=4.3.0 in c:\\users\\birth\\anaconda3\\envs\\rl_2024_pac1\\lib\\site-packages (from gymnasium==1.0.0) (4.11.0)\n",
      "Requirement already satisfied: farama-notifications>=0.0.1 in c:\\users\\birth\\anaconda3\\envs\\rl_2024_pac1\\lib\\site-packages (from gymnasium==1.0.0) (0.0.4)\n",
      "Requirement already satisfied: importlib-metadata>=4.8.0 in c:\\users\\birth\\anaconda3\\envs\\rl_2024_pac1\\lib\\site-packages (from gymnasium==1.0.0) (7.0.1)\n",
      "Requirement already satisfied: zipp>=0.5 in c:\\users\\birth\\anaconda3\\envs\\rl_2024_pac1\\lib\\site-packages (from importlib-metadata>=4.8.0->gymnasium==1.0.0) (3.20.2)\n"
     ]
    }
   ],
   "source": [
    "!pip install gymnasium==1.0.0"
   ]
  },
  {
   "cell_type": "code",
   "execution_count": 2,
   "metadata": {
    "id": "qNO2StvHo6DD",
    "outputId": "467036e4-1515-42b8-91f4-b685bf78f461"
   },
   "outputs": [
    {
     "name": "stdout",
     "output_type": "stream",
     "text": [
      "La versió de Gymnasium utilitzada en aquesta PAC s la 1.0.0, comprova-ho a continuació\n",
      "Gymnasium Version: 1.0.0\n"
     ]
    }
   ],
   "source": [
    "import gymnasium as gym\n",
    "print(\"La versió de Gymnasium utilitzada en aquesta PAC s la 1.0.0, comprova-ho a continuació\")\n",
    "print(\"Gymnasium Version:\", gym.__version__) # 0.28.1"
   ]
  },
  {
   "cell_type": "markdown",
   "metadata": {
    "id": "j27liozvo6DE"
   },
   "source": [
    "A continuació clonem el repositori de l'entorn (això només s'ha de fer una vegada)."
   ]
  },
  {
   "cell_type": "code",
   "execution_count": null,
   "metadata": {
    "id": "81RCuLEwej1O"
   },
   "outputs": [],
   "source": [
    "!git clone https://github.com/sparisi/gym_gridworlds.git"
   ]
  },
  {
   "cell_type": "markdown",
   "metadata": {
    "id": "0hC5cWEHo6DG"
   },
   "source": [
    "Entrem dins del directori `gym_gridworlds` i l'instal·lem en mode editable (això només s'ha de fer una vegada)."
   ]
  },
  {
   "cell_type": "code",
   "execution_count": null,
   "metadata": {
    "id": "7ne58OSTe2Sa"
   },
   "outputs": [],
   "source": [
    "!cd gym_gridworlds\n",
    "!pip install -e ."
   ]
  },
  {
   "cell_type": "markdown",
   "metadata": {
    "executionInfo": {
     "elapsed": 7016,
     "status": "ok",
     "timestamp": 1729206587859,
     "user": {
      "displayName": "Luis Esteve Elfau",
      "userId": "04659768458370690763"
     },
     "user_tz": -120
    },
    "id": "R3t9AqNLZ549",
    "outputId": "d3c79fd1-df15-46fc-8ad3-843090119b33"
   },
   "source": [
    "Importem els paquets necessaris per la resta de la PAC"
   ]
  },
  {
   "cell_type": "code",
   "execution_count": 3,
   "metadata": {
    "id": "h5y5sIqBPPxr"
   },
   "outputs": [],
   "source": [
    "import numpy as np\n",
    "from matplotlib import pyplot as plt\n",
    "from collections import defaultdict\n",
    "import sys\n",
    "import time\n",
    "import gym_gridworlds"
   ]
  },
  {
   "cell_type": "markdown",
   "metadata": {
    "id": "2TOZsvbEo6DI"
   },
   "source": [
    "Creem l'entorn mitjançant la instanciació d'un objecte de classe `Gridworld` (en executar la instrucció `env = gym.make(\"Gym-Gridworlds/Full-4x5-v0\", render_mode=\"human\")`) i imprimim per pantalla el tipus de l'espai d'accions i de l'espai d'observacions."
   ]
  },
  {
   "cell_type": "code",
   "execution_count": 4,
   "metadata": {
    "executionInfo": {
     "elapsed": 1914,
     "status": "ok",
     "timestamp": 1729206611289,
     "user": {
      "displayName": "Luis Esteve Elfau",
      "userId": "04659768458370690763"
     },
     "user_tz": -120
    },
    "id": "ej5qlR-OaTLi",
    "outputId": "e7c8876c-b829-4dc3-dc91-8ca0fdcb8314"
   },
   "outputs": [
    {
     "name": "stdout",
     "output_type": "stream",
     "text": [
      "Action space is Discrete(5) \n",
      "Observation space is Discrete(20) \n"
     ]
    }
   ],
   "source": [
    "env = gym.make(\"Gym-Gridworlds/Full-4x5-v0\", render_mode=\"human\")\n",
    "env.reset()\n",
    "env.render()\n",
    "print(\"Action space is {} \".format(env.action_space))\n",
    "print(\"Observation space is {} \".format(env.observation_space))"
   ]
  },
  {
   "cell_type": "markdown",
   "metadata": {
    "id": "Lx8Y14xUo6DJ"
   },
   "source": [
    "L'entorn generat té el següent aspecte (comprovar-ho a la finestra emergent de <code>pygame</code> que es genera a l'executar <code>env.render()</code>):\n",
    "<br><br>\n",
    "<img src=\"images/Gym-Gridworld_4x5.png\" alt=\"Mi imagen\" style=\"display: block; margin-left: auto; margin-right: auto;\">\n",
    "\n",
    "En aquest entorn podem veure una sèrie de caselles i figures que es descriuen a continuació:\n",
    "\n",
    "<ul>\n",
    "  <li>Les caselles negres són buides.</li>\n",
    "  <li>Les caselles negres amb fletxes grises són caselles on l'agent només es pot moure en una direcció (les altres accions fallaran).</li>\n",
    "  <li>Les caselles vermelles donen recompenses negatives (com més brillants, més negatives).</li>\n",
    "  <li>Les caselles verdes donen recompenses positives (com més brillants, més altes).</li>\n",
    "  <li>Les caselles grogues són arenes movedisses, on totes les accions fallaran amb un 90% de probabilitat.</li>\n",
    "  <li>L'agent és el cercle blau.</li>\n",
    "</ul>\n",
    "\n",
    "A més, hi ha altres tipus de caselles:\n",
    "\n",
    "<ul>\n",
    "  <li>Les caselles blanques són pous (caminar-hi comporta una gran recompensa negativa i l'episodi acaba).</li>\n",
    "  <li>Les caselles porpres són parets (l'agent no hi pot passar).</li>\n",
    "  <li>Una fletxa taronja indica l'última acció de l'agent.</li>\n",
    "  <li>Un punt taronja indica que l'agent no va intentar moure's amb la seva última acció.</li>\n",
    "</ul>\n",
    "\n"
   ]
  },
  {
   "cell_type": "markdown",
   "metadata": {
    "id": "-P0mtfJco6DJ"
   },
   "source": [
    "<div style=\"background-color: #EDF7FF; border-color: #7C9DBF; border-left: 5px solid #7C9DBF; padding: 0.5em;\">\n",
    "<strong>Exercici 1.1</strong> (0.5 pts)\n",
    "\n",
    "Analitzar la [documentació](https://github.com/sparisi/gym_gridworlds) i el codi de l'entorn que es troba a <code>\\gym_gridworlds\\gridworld.py</code> per respondre a les següents preguntes:\n",
    "<ul>    \n",
    "    <li>Descriure l'espai d'accions de l'entorn: quantes accions hi ha? a què correspòn cadascuna d'elles?</li>\n",
    "    <li>Quina és la casella inicial? Es pot canviar?</li>\n",
    "</ul></div>"
   ]
  },
  {
   "cell_type": "markdown",
   "metadata": {
    "id": "UHFTLUP5o6DJ"
   },
   "source": [
    "<div style=\"background-color: #fcf2f2; border-color: #dfb5b4; border-left: 5px solid #dfb5b4; padding: 0.5em;\">\n",
    "<strong>Comentaris:</strong>\n",
    "<br>\n",
    "<ul>\n",
    "    <li>Hi ha 5 accions diferents.</li>\n",
    "    <ul>\n",
    "        <li>0: \"Move Left\"</li>\n",
    "        <li>1: \"Move Down\"</li>\n",
    "        <li>2: \"Move Right\"</li>\n",
    "        <li>3: \"Move Up\"</li>\n",
    "        <li>4: \"Stay\"</li>\n",
    "    </ul>\n",
    "<li>En quant a la casella inicial:</li>\n",
    "    <ul>\n",
    "        <li>Per defecte es troba a dalt a l'esquerra.</li>\n",
    "        <li>Es pot canviar fent una sub-classe de la classe <code>Gridworld</code> i re-escribint el mètode <code>_reset()</code></li>\n",
    "    </ul>\n",
    "</ul>\n",
    "</div>"
   ]
  },
  {
   "cell_type": "markdown",
   "metadata": {
    "id": "DXpl0ErhE_I1"
   },
   "source": [
    "### 1.2. Execució d'un episodi (0.5 punts)\n",
    "\n",
    "A continuació, realitzarem l'execució d'un episodi de l'entorn *Gym-Gridworlds/Full-4x5-v0* utilitzant un agent que selecciona les accions de forma aleatòria.\n",
    "  "
   ]
  },
  {
   "cell_type": "code",
   "execution_count": 5,
   "metadata": {
    "id": "84mPbgBGE1zz",
    "outputId": "4e419353-a572-44de-d917-1cc16bc3dfa0",
    "scrolled": true
   },
   "outputs": [
    {
     "name": "stdout",
     "output_type": "stream",
     "text": [
      "Obs inicial: 0 \n",
      "Step 1. Action: Stay -> Obs: 0 and reward: 0.0. Terminated False. Truncated False.\n",
      "Step 2. Action: Stay -> Obs: 0 and reward: 0.0. Terminated False. Truncated False.\n",
      "Step 3. Action: Left -> Obs: 0 and reward: 0.0. Terminated False. Truncated False.\n",
      "Step 4. Action: Stay -> Obs: 0 and reward: 0.0. Terminated False. Truncated False.\n",
      "Step 5. Action: Down -> Obs: 5 and reward: 0.0. Terminated False. Truncated False.\n",
      "Step 6. Action: Left -> Obs: 5 and reward: 0.0. Terminated False. Truncated False.\n",
      "Step 7. Action: Stay -> Obs: 5 and reward: 0.0. Terminated False. Truncated False.\n",
      "Step 8. Action: Down -> Obs: 10 and reward: 0.0. Terminated False. Truncated False.\n",
      "Step 9. Action: Right -> Obs: 11 and reward: 0.0. Terminated False. Truncated False.\n",
      "Step 10. Action: Up -> Obs: 6 and reward: 0.0. Terminated False. Truncated False.\n",
      "Step 11. Action: Left -> Obs: 5 and reward: 0.0. Terminated False. Truncated False.\n",
      "Step 12. Action: Right -> Obs: 6 and reward: 0.0. Terminated False. Truncated False.\n",
      "Step 13. Action: Left -> Obs: 5 and reward: 0.0. Terminated False. Truncated False.\n",
      "Step 14. Action: Left -> Obs: 5 and reward: 0.0. Terminated False. Truncated False.\n",
      "Step 15. Action: Down -> Obs: 10 and reward: 0.0. Terminated False. Truncated False.\n",
      "Step 16. Action: Up -> Obs: 10 and reward: 0.0. Terminated False. Truncated False.\n",
      "Step 17. Action: Left -> Obs: 10 and reward: 0.0. Terminated False. Truncated False.\n",
      "Step 18. Action: Down -> Obs: 10 and reward: 0.0. Terminated False. Truncated False.\n",
      "Step 19. Action: Down -> Obs: 10 and reward: 0.0. Terminated False. Truncated False.\n",
      "Step 20. Action: Right -> Obs: 11 and reward: 0.0. Terminated False. Truncated False.\n",
      "Step 21. Action: Down -> Obs: 16 and reward: 0.0. Terminated False. Truncated False.\n",
      "Step 22. Action: Left -> Obs: 15 and reward: 0.0. Terminated False. Truncated False.\n",
      "Step 23. Action: Up -> Obs: 10 and reward: 0.0. Terminated False. Truncated False.\n",
      "Step 24. Action: Down -> Obs: 10 and reward: 0.0. Terminated False. Truncated False.\n",
      "Step 25. Action: Stay -> Obs: 10 and reward: 0.0. Terminated False. Truncated False.\n",
      "Step 26. Action: Down -> Obs: 10 and reward: 0.0. Terminated False. Truncated False.\n",
      "Step 27. Action: Stay -> Obs: 10 and reward: 0.0. Terminated False. Truncated False.\n",
      "Step 28. Action: Right -> Obs: 11 and reward: 0.0. Terminated False. Truncated False.\n",
      "Step 29. Action: Left -> Obs: 10 and reward: 0.0. Terminated False. Truncated False.\n",
      "Step 30. Action: Down -> Obs: 10 and reward: 0.0. Terminated False. Truncated False.\n",
      "Step 31. Action: Up -> Obs: 10 and reward: 0.0. Terminated False. Truncated False.\n",
      "Step 32. Action: Stay -> Obs: 10 and reward: 0.0. Terminated False. Truncated False.\n",
      "Step 33. Action: Down -> Obs: 10 and reward: 0.0. Terminated False. Truncated False.\n",
      "Step 34. Action: Right -> Obs: 11 and reward: 0.0. Terminated False. Truncated False.\n",
      "Step 35. Action: Stay -> Obs: 11 and reward: 0.0. Terminated False. Truncated False.\n",
      "Step 36. Action: Right -> Obs: 12 and reward: 0.0. Terminated False. Truncated False.\n",
      "Step 37. Action: Left -> Obs: 12 and reward: 0.0. Terminated False. Truncated False.\n",
      "Step 38. Action: Stay -> Obs: 12 and reward: 0.0. Terminated False. Truncated False.\n",
      "Step 39. Action: Left -> Obs: 12 and reward: 0.0. Terminated False. Truncated False.\n",
      "Step 40. Action: Right -> Obs: 12 and reward: 0.0. Terminated False. Truncated False.\n",
      "Step 41. Action: Up -> Obs: 12 and reward: 0.0. Terminated False. Truncated False.\n",
      "Step 42. Action: Up -> Obs: 12 and reward: 0.0. Terminated False. Truncated False.\n",
      "Step 43. Action: Down -> Obs: 12 and reward: 0.0. Terminated False. Truncated False.\n",
      "Step 44. Action: Right -> Obs: 12 and reward: 0.0. Terminated False. Truncated False.\n",
      "Step 45. Action: Up -> Obs: 7 and reward: 0.0. Terminated False. Truncated False.\n",
      "Step 46. Action: Left -> Obs: 6 and reward: -10.0. Terminated False. Truncated False.\n",
      "Step 47. Action: Left -> Obs: 5 and reward: 0.0. Terminated False. Truncated False.\n",
      "Step 48. Action: Left -> Obs: 5 and reward: 0.0. Terminated False. Truncated False.\n",
      "Step 49. Action: Stay -> Obs: 5 and reward: 0.0. Terminated False. Truncated False.\n",
      "Step 50. Action: Up -> Obs: 0 and reward: 0.0. Terminated False. Truncated True.\n",
      "Episode finished after 50 timesteps and reward was -10.0 \n"
     ]
    }
   ],
   "source": [
    "# Inicialitzem l'entorn\n",
    "obs, info = env.reset()\n",
    "t, total_reward, terminated, truncated = 0, 0, False, False\n",
    "\n",
    "print(\"Obs inicial: {} \".format(obs))\n",
    "\n",
    "switch_action = {\n",
    "        0: \"Left\",\n",
    "        1: \"Down\",\n",
    "        2: \"Right\",\n",
    "        3: \"Up\",\n",
    "        4: \"Stay\",\n",
    "    }\n",
    "done = False\n",
    "while not done:\n",
    "\n",
    "    # Triar una acció aleatòria (aquesta és la implementació de l'agent)\n",
    "    action = env.action_space.sample()\n",
    "\n",
    "    # Executar l'acció i esperar la resposta de l'entorn\n",
    "    new_obs, reward, terminated, truncated, info = env.step(action)\n",
    "    done = terminated or truncated\n",
    "    # Imprimir time-step\n",
    "    print(\"Step {}. Action: {} -> Obs: {} and reward: {}. Terminated {}. Truncated {}.\".format(t+1, switch_action[action], new_obs, reward, terminated, truncated))\n",
    "\n",
    "    # Actualitzar variables\n",
    "    obs = new_obs\n",
    "    total_reward += reward\n",
    "    t += 1\n",
    "    time.sleep(0.5) #S'afegeix per alentir el renderitzat i poder apreciar els moviments de l'agent\n",
    "\n",
    "print(\"Episode finished after {} timesteps and reward was {} \".format(t, total_reward))"
   ]
  },
  {
   "cell_type": "markdown",
   "metadata": {
    "id": "GKN4LyXHo6DK"
   },
   "source": [
    "Es recomana analitzar el codi anterior, executar-lo vàries vegades i observar el renderitzat en la finestra emergent externa abans de contestar el següent exercici."
   ]
  },
  {
   "cell_type": "markdown",
   "metadata": {
    "id": "raIg3cNao6DL"
   },
   "source": [
    "<div style=\"background-color: #EDF7FF; border-color: #7C9DBF; border-left: 5px solid #7C9DBF; padding: 0.5em;\">\n",
    "<strong>Exercici 1.2</strong> (0.5 pts)\n",
    "\n",
    "Una vegada executat l'episodi, i en base a l'anàlisi de la documentació i del codi de l'entorn, respondre a les següents preguntes:\n",
    "<ul>\n",
    "    <li>Descriure l'espai d'estats: en què consisteixen els estats? com es codifiquen per defecte?</li>\n",
    "    <li>Descriure el senyal de recompensa: quins valors pot prendre? en quines situacions es rep cada valor?</li>\n",
    "    <li>Quan finalitza un episodi?</li>\n",
    "</ul></div>"
   ]
  },
  {
   "cell_type": "markdown",
   "metadata": {
    "id": "RKFHJQeeo6DL"
   },
   "source": [
    "<div style=\"background-color: #fcf2f2; border-color: #dfb5b4; border-left: 5px solid #dfb5b4; padding: 0.5em;\">\n",
    "<strong>Comentaris:</strong>\n",
    "<br>\n",
    "<ul>\n",
    "    <li>L'espai d'estats consisteix en un conjunt de números enters que identifiquen cada casella:</li>\n",
    "    <ul>\n",
    "        <li>El seu rang és [0,nombre de caselles-1]</li>\n",
    "        <li>La numeració comença amb 0 a la casella de dalt a l'esquerra i es va propagant d'esquerra a dreta i de dalt a baix.</li>\n",
    "    </ul>\n",
    "    <li>El senyal de recompensa és una variable real que pot prendre els següents valors en funció dels estats i les accions seleccionades:</li>\n",
    "    <ul>\n",
    "        <li>Seleccionar l'acció <code>STAY</code> a la casella objectiu (color verd brillant): +1</li>\n",
    "        <li>Seleccionar l'acció <code>STAY</code> a la casella objectiu de distracció (color verd fosc): +0.1</li>\n",
    "        <li>Qualsevol acció en caselles de penalització (vermell brillant): -10</li>\n",
    "        <li>Qualsevol acció en caselles de penalització petita (vermell fosc, granat): -0.1</li>\n",
    "        <li>Caminar sobre una casella de pou (blanx): -100</li>\n",
    "        <li>Altrament: 0</li>\n",
    "    </ul>\n",
    "    <li>De manera predeterminada, un episodi finalitza si passa alguna de les situacions següents:</li>\n",
    "    <ul>\n",
    "        <li>S'obté una recompensa positiva (terminació).</li>\n",
    "        <li>Caminar sobre una casella de pou (terminació).</li>\n",
    "        <li>La longitud de l'episodi arriba a <code>max_episode_steps</code> (truncament).</li>\n",
    "    </ul>\n",
    "</ul>\n",
    "</div>"
   ]
  },
  {
   "cell_type": "markdown",
   "metadata": {
    "id": "s6L2Jw66o6DL"
   },
   "source": [
    "Tanquem l'entorn perquè als següents apartats en crearem un de nou"
   ]
  },
  {
   "cell_type": "code",
   "execution_count": 6,
   "metadata": {
    "id": "LTMzWO_ko6DL"
   },
   "outputs": [],
   "source": [
    "env.close()"
   ]
  },
  {
   "cell_type": "markdown",
   "metadata": {
    "id": "Mc_f31JOkh2d"
   },
   "source": [
    "## 2. Creació d'un entorn propi (1,5 punts)\n",
    "\n",
    "L'entorn *Gym-Gridworld* té diversos arguments que poden ser modificats:\n",
    "\n",
    "* La dimensió de la quadrícula.\n",
    "* El tipus de cada casella.\n",
    "* La posició de les caselles de sortida i d'arribada.\n",
    "* ..."
   ]
  },
  {
   "cell_type": "markdown",
   "metadata": {
    "id": "WniTr5sdXLyC"
   },
   "source": [
    "<div style=\"background-color: #EDF7FF; border-color: #7C9DBF; border-left: 5px solid #7C9DBF; padding: 0.5em;\">\n",
    "<strong>Exercici 2.1</strong> (0,75 punts)\n",
    "\n",
    "Crear un entorn nou com el que es descriu a continuació:\n",
    "\n",
    "<ul>\n",
    "  <li>Graella 4x4</li>\n",
    "  <li>Les 4 caselles centrals son de tipus paret (color porpra).</li>\n",
    "  <li>Casella d'inici a dalt a l'esquerra (posició per defecte).</li>\n",
    "  <li>Casella final (color verd brillant) a baix a la dreta.</li>\n",
    "  <li>La casella de la dreta del tot de la primera fila que sigui amb penalització gran (color vermell brillant).</li>\n",
    "  <li>La resta de caselles, en comptes de ser normals (color negre) posar-les amb una petita penalització (color vermell fosc).</li>\n",
    "</ul>\n",
    "\n",
    "Per a realitzar l'entorn:\n",
    "<ul>\n",
    "  <li>Heu d'afegir la graella al diccionari <code>GRIDS</code> de l'arxiu <code>\\gym_gridworlds\\gridworld.py</code> (utilitzeu com a clau de l'entrada al diccionari <code>\"4X4_Ex2\"</code>.)</li>\n",
    "  <li>Heu de registrar l'entorn a l'arxiu <code>\\gym_gridworlds\\__init__.py</code> amb les següents dades:</li>\n",
    "      <ul>\n",
    "          <li><code>id=\"Gym-Gridworlds/Ex2-4x4-v0\"</code></li>\n",
    "          <li><code>entry_point=\"gym_gridworlds.gridworld:Gridworld\"</code></li>\n",
    "          <li><code>max_episode_steps=100</code></li>\n",
    "          <li><code>kwargs={\"grid\": \"4X4_Ex2\",}</code></li>\n",
    "       </ul>\n",
    "</ul>\n",
    "</div>"
   ]
  },
  {
   "cell_type": "markdown",
   "metadata": {
    "id": "-d0qpzwLo6DM"
   },
   "source": [
    "Una vegada afegit i registrat el nou entorn re-inicieu el kernel del Notebook per a que es pugui carregar i executar.\n",
    "\n",
    "Si tot ha anat bé, després d'executar el següent codi, hauríeu d'obtenir un entorn amb el següent aspecte:\n",
    "<br><br>\n",
    "<img src=\"images/Gym-Gridworld_Ex2_4x4.png\" alt=\"Mi imagen\" style=\"display: block; margin-left: auto; margin-right: auto;\">\n",
    "\n"
   ]
  },
  {
   "cell_type": "code",
   "execution_count": 7,
   "metadata": {
    "id": "ZIKcFYi-IX-C",
    "outputId": "64eabc36-374f-42f0-cb58-833a5c224baf"
   },
   "outputs": [
    {
     "name": "stdout",
     "output_type": "stream",
     "text": [
      "Action space is Discrete(5) \n",
      "Observation space is Discrete(16) \n"
     ]
    }
   ],
   "source": [
    "import gym_gridworlds\n",
    "env = gym.make(\"Gym-Gridworlds/Ex2-4x4-v0\", render_mode=\"human\")\n",
    "env.reset()\n",
    "env.render()\n",
    "print(\"Action space is {} \".format(env.action_space))\n",
    "print(\"Observation space is {} \".format(env.observation_space))"
   ]
  },
  {
   "cell_type": "markdown",
   "metadata": {
    "id": "8AVvZVSqIggI"
   },
   "source": [
    "<div style=\"background-color: #EDF7FF; border-color: #7C9DBF; border-left: 5px solid #7C9DBF; padding: 0.5em;\">\n",
    "<strong>Exercici 2.2</strong> (0,25 punts)\n",
    "\n",
    "A continuació, implementar un agent que dugui a terme una política aleatòria. Comprovar que les caselles visitades i les recompenses rebudes es corresponen amb les accions i l'entorn programat.\n",
    "\n",
    "Mostrar la trajectòria seguida per l'agent. No cal graficar-la , tan sols mostrar les accions i les caselles visitades en ordre i les recompenses rebudes.\n",
    "\n",
    "Mostrar també el nombre de *steps* i la recompensa total acumulada.\n",
    "</div>"
   ]
  },
  {
   "cell_type": "code",
   "execution_count": 8,
   "metadata": {
    "id": "ksk8N63OHpEO",
    "outputId": "4f0a4985-ff4f-416e-80e3-e5196790cdfc"
   },
   "outputs": [
    {
     "name": "stdout",
     "output_type": "stream",
     "text": [
      "Obs inicial: 0 \n"
     ]
    }
   ],
   "source": [
    "# Inicialitzem l'entorn\n",
    "obs, info = env.reset()\n",
    "t, total_reward, terminated, truncated = 0, 0, False, False\n",
    "\n",
    "print(\"Obs inicial: {} \".format(obs))\n",
    "\n",
    "switch_action = {\n",
    "        0: \"Left\",\n",
    "        1: \"Down\",\n",
    "        2: \"Right\",\n",
    "        3: \"Up\",\n",
    "        4: \"Stay\",\n",
    "    }"
   ]
  },
  {
   "cell_type": "code",
   "execution_count": 9,
   "metadata": {
    "id": "Q1B0qogIJB2z",
    "outputId": "c4da12c1-0359-4ebe-d436-161b2c97c0b4"
   },
   "outputs": [
    {
     "name": "stdout",
     "output_type": "stream",
     "text": [
      "Step 1. Action: Stay -> Obs: 0 and reward: -0.1. Terminated False. Truncated False.\n",
      "Step 2. Action: Left -> Obs: 0 and reward: -0.1. Terminated False. Truncated False.\n",
      "Step 3. Action: Up -> Obs: 0 and reward: -0.1. Terminated False. Truncated False.\n",
      "Step 4. Action: Down -> Obs: 4 and reward: -0.1. Terminated False. Truncated False.\n",
      "Step 5. Action: Stay -> Obs: 4 and reward: -0.1. Terminated False. Truncated False.\n",
      "Step 6. Action: Left -> Obs: 4 and reward: -0.1. Terminated False. Truncated False.\n",
      "Step 7. Action: Stay -> Obs: 4 and reward: -0.1. Terminated False. Truncated False.\n",
      "Step 8. Action: Stay -> Obs: 4 and reward: -0.1. Terminated False. Truncated False.\n",
      "Step 9. Action: Left -> Obs: 4 and reward: -0.1. Terminated False. Truncated False.\n",
      "Step 10. Action: Stay -> Obs: 4 and reward: -0.1. Terminated False. Truncated False.\n",
      "Step 11. Action: Left -> Obs: 4 and reward: -0.1. Terminated False. Truncated False.\n",
      "Step 12. Action: Left -> Obs: 4 and reward: -0.1. Terminated False. Truncated False.\n",
      "Step 13. Action: Up -> Obs: 0 and reward: -0.1. Terminated False. Truncated False.\n",
      "Step 14. Action: Down -> Obs: 4 and reward: -0.1. Terminated False. Truncated False.\n",
      "Step 15. Action: Right -> Obs: 4 and reward: -0.1. Terminated False. Truncated False.\n",
      "Step 16. Action: Right -> Obs: 4 and reward: -0.1. Terminated False. Truncated False.\n",
      "Step 17. Action: Down -> Obs: 8 and reward: -0.1. Terminated False. Truncated False.\n",
      "Step 18. Action: Right -> Obs: 8 and reward: -0.1. Terminated False. Truncated False.\n",
      "Step 19. Action: Left -> Obs: 8 and reward: -0.1. Terminated False. Truncated False.\n",
      "Step 20. Action: Left -> Obs: 8 and reward: -0.1. Terminated False. Truncated False.\n",
      "Step 21. Action: Down -> Obs: 12 and reward: -0.1. Terminated False. Truncated False.\n",
      "Step 22. Action: Right -> Obs: 13 and reward: -0.1. Terminated False. Truncated False.\n",
      "Step 23. Action: Left -> Obs: 12 and reward: -0.1. Terminated False. Truncated False.\n",
      "Step 24. Action: Stay -> Obs: 12 and reward: -0.1. Terminated False. Truncated False.\n",
      "Step 25. Action: Up -> Obs: 8 and reward: -0.1. Terminated False. Truncated False.\n",
      "Step 26. Action: Stay -> Obs: 8 and reward: -0.1. Terminated False. Truncated False.\n",
      "Step 27. Action: Right -> Obs: 8 and reward: -0.1. Terminated False. Truncated False.\n",
      "Step 28. Action: Left -> Obs: 8 and reward: -0.1. Terminated False. Truncated False.\n",
      "Step 29. Action: Left -> Obs: 8 and reward: -0.1. Terminated False. Truncated False.\n",
      "Step 30. Action: Down -> Obs: 12 and reward: -0.1. Terminated False. Truncated False.\n",
      "Step 31. Action: Right -> Obs: 13 and reward: -0.1. Terminated False. Truncated False.\n",
      "Step 32. Action: Up -> Obs: 13 and reward: -0.1. Terminated False. Truncated False.\n",
      "Step 33. Action: Down -> Obs: 13 and reward: -0.1. Terminated False. Truncated False.\n",
      "Step 34. Action: Stay -> Obs: 13 and reward: -0.1. Terminated False. Truncated False.\n",
      "Step 35. Action: Left -> Obs: 12 and reward: -0.1. Terminated False. Truncated False.\n",
      "Step 36. Action: Stay -> Obs: 12 and reward: -0.1. Terminated False. Truncated False.\n",
      "Step 37. Action: Left -> Obs: 12 and reward: -0.1. Terminated False. Truncated False.\n",
      "Step 38. Action: Up -> Obs: 8 and reward: -0.1. Terminated False. Truncated False.\n",
      "Step 39. Action: Right -> Obs: 8 and reward: -0.1. Terminated False. Truncated False.\n",
      "Step 40. Action: Up -> Obs: 4 and reward: -0.1. Terminated False. Truncated False.\n",
      "Step 41. Action: Down -> Obs: 8 and reward: -0.1. Terminated False. Truncated False.\n",
      "Step 42. Action: Stay -> Obs: 8 and reward: -0.1. Terminated False. Truncated False.\n",
      "Step 43. Action: Down -> Obs: 12 and reward: -0.1. Terminated False. Truncated False.\n",
      "Step 44. Action: Up -> Obs: 8 and reward: -0.1. Terminated False. Truncated False.\n",
      "Step 45. Action: Right -> Obs: 8 and reward: -0.1. Terminated False. Truncated False.\n",
      "Step 46. Action: Left -> Obs: 8 and reward: -0.1. Terminated False. Truncated False.\n",
      "Step 47. Action: Right -> Obs: 8 and reward: -0.1. Terminated False. Truncated False.\n",
      "Step 48. Action: Down -> Obs: 12 and reward: -0.1. Terminated False. Truncated False.\n",
      "Step 49. Action: Down -> Obs: 12 and reward: -0.1. Terminated False. Truncated False.\n",
      "Step 50. Action: Left -> Obs: 12 and reward: -0.1. Terminated False. Truncated False.\n",
      "Step 51. Action: Down -> Obs: 12 and reward: -0.1. Terminated False. Truncated False.\n",
      "Step 52. Action: Stay -> Obs: 12 and reward: -0.1. Terminated False. Truncated False.\n",
      "Step 53. Action: Up -> Obs: 8 and reward: -0.1. Terminated False. Truncated False.\n",
      "Step 54. Action: Down -> Obs: 12 and reward: -0.1. Terminated False. Truncated False.\n",
      "Step 55. Action: Stay -> Obs: 12 and reward: -0.1. Terminated False. Truncated False.\n",
      "Step 56. Action: Stay -> Obs: 12 and reward: -0.1. Terminated False. Truncated False.\n",
      "Step 57. Action: Up -> Obs: 8 and reward: -0.1. Terminated False. Truncated False.\n",
      "Step 58. Action: Right -> Obs: 8 and reward: -0.1. Terminated False. Truncated False.\n",
      "Step 59. Action: Right -> Obs: 8 and reward: -0.1. Terminated False. Truncated False.\n",
      "Step 60. Action: Left -> Obs: 8 and reward: -0.1. Terminated False. Truncated False.\n",
      "Step 61. Action: Stay -> Obs: 8 and reward: -0.1. Terminated False. Truncated False.\n",
      "Step 62. Action: Down -> Obs: 12 and reward: -0.1. Terminated False. Truncated False.\n",
      "Step 63. Action: Right -> Obs: 13 and reward: -0.1. Terminated False. Truncated False.\n",
      "Step 64. Action: Right -> Obs: 14 and reward: -0.1. Terminated False. Truncated False.\n",
      "Step 65. Action: Right -> Obs: 15 and reward: -0.1. Terminated False. Truncated False.\n",
      "Step 66. Action: Stay -> Obs: 15 and reward: 1.0. Terminated True. Truncated False.\n",
      "Episode finished after 66 timesteps and total reward was -5.499999999999993 \n"
     ]
    }
   ],
   "source": [
    "######################## SOLUCIÓ ###########################\n",
    "\n",
    "done = False\n",
    "while not done:\n",
    "\n",
    "    # Triar una acció aleatòria (aquesta és la implementació de l'agent)\n",
    "    action = env.action_space.sample()\n",
    "\n",
    "    # Executar l'acció i esperar la resposta de l'entorn\n",
    "    new_obs, reward, terminated, truncated, info = env.step(action)\n",
    "    done = terminated or truncated\n",
    "    # Imprimir time-step\n",
    "    print(\"Step {}. Action: {} -> Obs: {} and reward: {}. Terminated {}. Truncated {}.\".format(t+1, switch_action[action], new_obs, reward, terminated, truncated))\n",
    "\n",
    "    # Actualitzar variables\n",
    "    obs = new_obs\n",
    "    total_reward += reward\n",
    "    t += 1\n",
    "    time.sleep(0.5)\n",
    "\n",
    "print(\"Episode finished after {} timesteps and total reward was {} \".format(t, total_reward))\n"
   ]
  },
  {
   "cell_type": "markdown",
   "metadata": {
    "id": "xVDVy2tIXLyD"
   },
   "source": [
    "<div style=\"background-color: #EDF7FF; border-color: #7C9DBF; border-left: 5px solid #7C9DBF; padding: 0.5em;\">\n",
    "<strong>Pregunta</strong>\n",
    "Quin pot ser l'ojectiu d'utilitzar caselles de collor vermell fosc (amb una petita penalització) en comptes de caselles negres (sense penalització) en l'entrenament dels agents?\n",
    "</div>"
   ]
  },
  {
   "cell_type": "markdown",
   "metadata": {
    "id": "ttFYwsVtXLyE"
   },
   "source": [
    "<div style=\"background-color: #fcf2f2; border-color: #dfb5b4; border-left: 5px solid #dfb5b4; padding: 0.5em;\">\n",
    "<strong>Comentaris:</strong>\n",
    "<br><br>\n",
    "Això es fa per a condicionar a l'agent a que intenti trobar el camí més ràpid cap a l'objectiu.\n",
    "</div>\n"
   ]
  },
  {
   "cell_type": "markdown",
   "metadata": {
    "id": "mQhaSJuIo6DP"
   },
   "source": [
    "<div style=\"background-color: #EDF7FF; border-color: #7C9DBF; border-left: 5px solid #7C9DBF; padding: 0.5em;\">\n",
    "<strong>Exercici 2.3</strong> (0,5 punts)\n",
    "\n",
    "A continuació, implementar un agent que dugui a terme la política òptima determinista, és a dir, que partint de la casella inicial [0,0] arribi a la casella final (de color verd brillant) amb la màxima recompensa acumulada. Quin és el valor del nombre de passos mínims? Quin és el retorn obtingut?\n",
    "\n",
    "Mostra la trajectòria seguida per l'agent i el retorn obtingut. No cal graficar-la, tan sols mostrar les accions i les caselles visitades en ordre i el retorn (recompensa total acumulada).\n",
    "\n",
    "Comenta els resultats.\n",
    "\n",
    "</div>"
   ]
  },
  {
   "cell_type": "code",
   "execution_count": 10,
   "metadata": {
    "id": "07kPrBwtXLyD",
    "outputId": "39e29cbd-27ca-4b03-d747-27cc55aee541"
   },
   "outputs": [
    {
     "name": "stdout",
     "output_type": "stream",
     "text": [
      "Obs inicial: 0 \n"
     ]
    }
   ],
   "source": [
    "# Inicialitzem l'entorn\n",
    "obs, info = env.reset()\n",
    "t, total_reward, terminated, truncated = 0, 0, False, False\n",
    "\n",
    "print(\"Obs inicial: {} \".format(obs))\n",
    "\n",
    "switch_action = {\n",
    "        0: \"Left\",\n",
    "        1: \"Down\",\n",
    "        2: \"Right\",\n",
    "        3: \"Up\",\n",
    "        4: \"Stay\",\n",
    "    }"
   ]
  },
  {
   "cell_type": "code",
   "execution_count": 11,
   "metadata": {
    "id": "FkX27sGtXLyD",
    "outputId": "0c1cc219-0956-4059-fe91-8dc52f3b5783"
   },
   "outputs": [
    {
     "name": "stdout",
     "output_type": "stream",
     "text": [
      "Step 1. Action: Down -> Obs: 4 and reward: -0.1. Terminated False. Truncated False.\n",
      "Step 2. Action: Down -> Obs: 8 and reward: -0.1. Terminated False. Truncated False.\n",
      "Step 3. Action: Down -> Obs: 12 and reward: -0.1. Terminated False. Truncated False.\n",
      "Step 4. Action: Right -> Obs: 13 and reward: -0.1. Terminated False. Truncated False.\n",
      "Step 5. Action: Right -> Obs: 14 and reward: -0.1. Terminated False. Truncated False.\n",
      "Step 6. Action: Right -> Obs: 15 and reward: -0.1. Terminated False. Truncated False.\n",
      "Step 7. Action: Stay -> Obs: 15 and reward: 1.0. Terminated True. Truncated False.\n",
      "Episode finished after 7 timesteps and total reward was 0.4 \n"
     ]
    }
   ],
   "source": [
    "######################## SOLUCIÓ ###########################\n",
    "\n",
    "# Definim una llista amb la política òptima\n",
    "optimal_policy = [1, 1, 1, 2, 2, 2, 4]\n",
    "\n",
    "# Li donem la volta a la llista per treure'ls d'un en un en l'ordre correcte\n",
    "\n",
    "optimal_policy.reverse()\n",
    "\n",
    "done = False\n",
    "while not done:\n",
    "\n",
    "    # Extreure una acció de la llista d'accions òptimes\n",
    "    action = optimal_policy.pop()\n",
    "\n",
    "    new_obs, reward, terminated, truncated, info = env.step(action)\n",
    "    done = terminated or truncated\n",
    "    # Imprimir time-step\n",
    "    print(\"Step {}. Action: {} -> Obs: {} and reward: {}. Terminated {}. Truncated {}.\".format(t+1, switch_action[action], new_obs, reward, terminated, truncated))\n",
    "\n",
    "\n",
    "    # Actualitzar variables\n",
    "    obs = new_obs\n",
    "    total_reward += reward\n",
    "    t += 1\n",
    "\n",
    "print(\"Episode finished after {} timesteps and total reward was {} \".format(t, total_reward))\n",
    "env.close()\n",
    "\n",
    "\n"
   ]
  },
  {
   "cell_type": "markdown",
   "metadata": {
    "id": "RGZix28qo6DQ"
   },
   "source": [
    "<div style=\"background-color: #fcf2f2; border-color: #dfb5b4; border-left: 5px solid #dfb5b4; padding: 0.5em;\">\n",
    "<strong>Comentaris:</strong>\n",
    "<br><br>\n",
    "La política òptima és aquella que provoca que l'agent arribi a la casella final (de color verd brillant) evitant la casella de màxima penalització (de color vermell brillant).\n",
    "\n",
    "S'aconsegueix en 7 passes i el retorn és de 0.4.\n",
    "\n",
    "</div>\n"
   ]
  },
  {
   "cell_type": "markdown",
   "metadata": {
    "id": "0I9svxF9XLyG"
   },
   "source": [
    "## 3. Mètodes de Montecarlo (2 punts)\n",
    "\n",
    "L'objectiu d'aquest apartat és realitzar una estimació de la política òptima mitjançant els mètodes de Montecarlo. En concret estudiarem l'algoritme *On-policy first-visit MC control* (per a polítiques $\\epsilon$-soft)."
   ]
  },
  {
   "cell_type": "markdown",
   "metadata": {
    "id": "V8GHrBhaXLyG"
   },
   "source": [
    "<div style=\"background-color: #EDF7FF; border-color: #7C9DBF; border-left: 5px solid #7C9DBF; padding: 0.5em;\">\n",
    "<strong>Exercici 3.1</strong> (1 punt)\n",
    "\n",
    "Implementar l'Algorisme 3 explicat en el mòdul \"Mètodes de Montecarlo\": *On-policy first-visit MC control (per a polítiques $\\epsilon$-soft)* utilitzant els següents paràmetres:\n",
    "    \n",
    "<ul>\n",
    "  <li>Nombre d'episodis = 50.000</li>\n",
    "  <li>Epsilon inicial = 0,5</li>\n",
    "  <li>Factor de decaïment d'epsilon (*epsilon decay*) = 0,999</li>\n",
    "  <li>Mínim valor d'epsilon (*epsilon_min*) = 0,05</li>\n",
    "  <li>Actualitzar epsilon segons:  $$\\textrm{max}(\\epsilon · \\epsilon_{\\textrm{decay}}, \\epsilon_{\\textrm{min}})$$</li>\n",
    "  <li>Factor de descompte = 1</li>\n",
    "</ul>\n",
    "<b>Nota: als entrenaments dels agents es recomana utilitzar els entorns amb <code>render_mode = None</code> per a agilitzar l'execució.</b>\n",
    "</div>"
   ]
  },
  {
   "cell_type": "code",
   "execution_count": 12,
   "metadata": {
    "id": "PzULGiJpXLyG"
   },
   "outputs": [],
   "source": [
    "######################## SOLUCIÓ ###########################\n",
    "## Solució adaptada de\n",
    "## https://github.com/dennybritz/reinforcement-learning/tree/master/MC\n",
    "import gym_gridworlds\n",
    "env = gym.make(\"Gym-Gridworlds/Ex2-4x4-v0\", render_mode=None)\n",
    "\n",
    "env.reset()\n",
    "#env.render()\n",
    "\n",
    "def make_epsilon_greedy_policy(Q, epsilon, num_Actions):\n",
    "    \"\"\"\n",
    "    Crea una política epsilon-greedy basada en una función de valor de acción Q y epsilon\n",
    "\n",
    "    Args:\n",
    "        Q: Un diccionario cuya correspondencia es state -> action-values.\n",
    "           Cada valor es un array de numpy de longitud num_Actions (see below)\n",
    "        epsilon: La probabilidad de seleccionar una acción aleatoria (float entre 0 and 1).\n",
    "        num_Actions: Número de acciones del entorno. (en el caso del WIndyGridWorld es 4)\n",
    "\n",
    "    Returns:\n",
    "        Una función que tome como argumento la observación y devuelva como resultado\n",
    "        las probabilidades de cada acción como un array de numpy de longitud num_Actions.\n",
    "    \"\"\"\n",
    "    def policy_fn(observation):\n",
    "\n",
    "        A = np.ones(num_Actions, dtype=float) * epsilon / num_Actions\n",
    "        best_action = np.argmax(Q[observation])\n",
    "        A[best_action] += (1.0 - epsilon)\n",
    "\n",
    "        return A\n",
    "\n",
    "    return policy_fn\n",
    "\n",
    "def mc_control_on_policy_epsilon_greedy(env, num_episodes, discount=1.0, epsilon=0.1, epsilon_decay = 0.9, epsilon_min = 0.01):\n",
    "    \"\"\"\n",
    "    Control mediante métodos de Montecarlo usando políticas Epsilon-Greedy\n",
    "    Encuentra una política epsilon-greedy.\n",
    "\n",
    "    Args:\n",
    "        env: entorno OpenAI gym.\n",
    "        num_episodes: Número de episodios de la muestra.\n",
    "        discount: factor de descuento.\n",
    "        epsilon: La probabilidad de seleccionar una acción aleatoria (float entre 0 and 1)\n",
    "\n",
    "    Returns:\n",
    "        Una tupla (Q, policy).\n",
    "        Q: Un diccionario cuya correspondencia es state -> action-values.\n",
    "        policy: Una función que toma como argumento la observación y devuelve como resultado\n",
    "                las probabilidades de cada acción\n",
    "    \"\"\"\n",
    "\n",
    "    # Almacenamos la suma y el número de retornos de cada estado para calcular\n",
    "    # el promedio. Podríamos usar un array para guardar todos los retornos\n",
    "    # (como en el libro) pero es ineficiente en términos de memoria.\n",
    "    returns_sum = defaultdict(float)\n",
    "    returns_count = defaultdict(float)\n",
    "\n",
    "    # La función de valor de acción Q.\n",
    "    # Un diccionario anidado cuya correspondencia es state -> (action -> action-value).\n",
    "    # Inicialmente la inicializamos a cero\n",
    "    Q = defaultdict(lambda: np.zeros(env.action_space.n))\n",
    "\n",
    "    # La política que estamos siguiendo\n",
    "    policy = make_epsilon_greedy_policy(Q, epsilon, env.action_space.n)\n",
    "\n",
    "    for i_episode in range(1, num_episodes + 1):\n",
    "        # Imprimimos en qué episodio estamos, útil para debugar.\n",
    "        if i_episode % 50 == 0:\n",
    "            print(\"\\rEpisode {}/{}. Epsilon {}\".format(i_episode, num_episodes, epsilon), end=\"\")\n",
    "            sys.stdout.flush()\n",
    "\n",
    "        # Generamos un episodio y lo almacenamos\n",
    "        # Un episodio es un array de las tuplas (state, action, reward)\n",
    "        episode = []\n",
    "        state, _ = env.reset()\n",
    "        done = False\n",
    "        while not done:\n",
    "            probs = policy(state)\n",
    "            action = np.random.choice(np.arange(len(probs)), p=probs)\n",
    "            next_state, reward, terminated, truncated, _ = env.step(action)\n",
    "            done = terminated or truncated\n",
    "            episode.append((state, action, reward))\n",
    "            if done:\n",
    "                break\n",
    "            state = next_state\n",
    "\n",
    "        # Encontramos todos los pares (estado, acción) que hemos visitado en este episodio\n",
    "        # Convertimos cada estado en una tupla para poder usarlo como clave del diccionario\n",
    "        sa_in_episode = set([(x[0], x[1]) for x in episode])\n",
    "        for state, action in sa_in_episode:\n",
    "            sa_pair = (state, action)\n",
    "            # Encontramos la primera aparición del par (estado, acción) en el episodio\n",
    "            first_occurence_idx = next(i for i,x in enumerate(episode)\n",
    "                                       if x[0] == state and x[1] == action)\n",
    "            # Sumamos todas las recompensas desde la primera aparición\n",
    "            G = sum([x[2]*(discount**i) for i,x in enumerate(episode[first_occurence_idx:])])\n",
    "            # Calculamos el retorno promedio para este estado en todos los episodios muestreados\n",
    "            returns_sum[sa_pair] += G\n",
    "            returns_count[sa_pair] += 1.0\n",
    "            Q[state][action] = returns_sum[sa_pair] / returns_count[sa_pair]\n",
    "\n",
    "        # Actualitzem epsilon\n",
    "        epsilon = max(epsilon * epsilon_decay, epsilon_min)\n",
    "\n",
    "        # La política es millora implícitament en canviar els valors de Q\n",
    "\n",
    "    return Q"
   ]
  },
  {
   "cell_type": "code",
   "execution_count": 13,
   "metadata": {
    "id": "DvmxkGZ3o6DX",
    "outputId": "ed83848a-bbb2-4d39-e983-f5ef51aa276a"
   },
   "outputs": [
    {
     "name": "stdout",
     "output_type": "stream",
     "text": [
      "Episode 50000/50000. Epsilon 0.05121889634088815CPU times: total: 44 s\n",
      "Wall time: 43.6 s\n"
     ]
    }
   ],
   "source": [
    "%%time\n",
    "######################## SOLUCIÓ ###########################\n",
    "Q_mc = mc_control_on_policy_epsilon_greedy(env, num_episodes=50000, discount=1, epsilon=0.5, epsilon_decay = 0.999, epsilon_min = 0.05)"
   ]
  },
  {
   "cell_type": "markdown",
   "metadata": {
    "id": "-z-VxeHfXLyH"
   },
   "source": [
    "<div style=\"background-color: #EDF7FF; border-color: #7C9DBF; border-left: 5px solid #7C9DBF; padding: 0.5em;\">\n",
    "<strong>Exercici 3.2</strong> (0.5 punts)\n",
    "Implementar una funció que imprimeixi per pantalla la política trobada per a cada casella a partir de la funció Q (aplicant una política <i>greedy</i>) i executar-la amb la funció Q obtinguda de l'entrenament del mètode de Montecarlo.\n",
    "Es tracta de la política òptima?\n",
    "</div>"
   ]
  },
  {
   "cell_type": "code",
   "execution_count": 14,
   "metadata": {
    "id": "rhrFr8xtXLyK"
   },
   "outputs": [],
   "source": [
    "def print_policy(Q, width, height):\n",
    "\n",
    "######################## SOLUCIÓ ###########################\n",
    "\n",
    "    switch_action = {\n",
    "        0: \"Left\",\n",
    "        1: \"Down\",\n",
    "        2: \"Right\",\n",
    "        3: \"Up\",\n",
    "        4: \"Stay\",\n",
    "    }\n",
    "    for j in range(height):\n",
    "        print(\"------------------------------------------\")\n",
    "        for i in range(width):\n",
    "            arr = np.array(Q[j*height+i])\n",
    "            act = int(arr.argmax())\n",
    "            a = switch_action[act]\n",
    "            print(\"  %s  |\" % a, end=\"\")\n",
    "        print(\"\")\n",
    "\n",
    "    print(\"----------------------------------------------\")\n"
   ]
  },
  {
   "cell_type": "code",
   "execution_count": 15,
   "metadata": {
    "id": "i22S8zaNXLyK",
    "outputId": "8a6752a0-2ae1-49a8-b1ab-c527575ddc26"
   },
   "outputs": [
    {
     "name": "stdout",
     "output_type": "stream",
     "text": [
      "------------------------------------------\n",
      "  Down  |  Left  |  Left  |  Down  |\n",
      "------------------------------------------\n",
      "  Down  |  Left  |  Left  |  Down  |\n",
      "------------------------------------------\n",
      "  Down  |  Left  |  Left  |  Down  |\n",
      "------------------------------------------\n",
      "  Right  |  Right  |  Right  |  Stay  |\n",
      "----------------------------------------------\n"
     ]
    }
   ],
   "source": [
    "######################## SOLUCIÓ ###########################\n",
    "print_policy(Q_mc,4,4)"
   ]
  },
  {
   "cell_type": "markdown",
   "metadata": {
    "id": "EDuoGZgFo6DY"
   },
   "source": [
    "<div style=\"background-color: #fcf2f2; border-color: #dfb5b4; border-left: 5px solid #dfb5b4; padding: 0.5em;\">\n",
    "<strong>Comentaris:</strong>\n",
    "<br><br>\n",
    "La política obtinguda és l'òptima per a totes les caselles la majoria de vegades que s'executa el codi amb els hiperparàmetres obtinguts, però hi ha vegades (no és el cas d'aquesta execució) que a la casella 3 (a dalt a la dreta del tot), l'acció escollida és 'Left' i hauria de ser 'Down'.\n",
    "</div>"
   ]
  },
  {
   "cell_type": "markdown",
   "metadata": {
    "id": "HPvEnKWHXLyL"
   },
   "source": [
    "<div style=\"background-color: #EDF7FF; border-color: #7C9DBF; border-left: 5px solid #7C9DBF; padding: 0.5em;\">\n",
    "<strong>Exercici 3.3</strong> (0.5 punts)\n",
    "Executar un episodi amb la política trobada i mostrar la trajectòria de l'agent i el retorn obtingut. Comentar els resultats.\n",
    "</div>"
   ]
  },
  {
   "cell_type": "code",
   "execution_count": 16,
   "metadata": {
    "id": "yYSTtAGjXLyL"
   },
   "outputs": [],
   "source": [
    "def execute_episode(Q, env):\n",
    "\n",
    "    ######################## SOLUCIÓ ###########################\n",
    "    obs, _ = env.reset()\n",
    "    t, total_reward, done = 0, 0, False\n",
    "    print(\"Obs inicial: {} \".format(obs))\n",
    "\n",
    "    switch_action = {\n",
    "        0: \"Left\",\n",
    "        1: \"Down\",\n",
    "        2: \"Right\",\n",
    "        3: \"Up\",\n",
    "        4: \"Stay\",\n",
    "    }\n",
    "\n",
    "    while not done:\n",
    "\n",
    "        # Triem la política òptima en cada cas (el màxim de la política Epsilon-Greedy)\n",
    "        arr = np.array(Q[obs])\n",
    "        action = arr.argmax()\n",
    "\n",
    "        # Executem l'acció i esperem la resposta de l'entorn\n",
    "        new_obs, reward, terminated, truncated, info = env.step(action)\n",
    "        obs = new_obs\n",
    "        print(\"Action: {} -> Obs: {} and reward: {}\".format(switch_action[action], obs, reward))\n",
    "        done = truncated or terminated\n",
    "\n",
    "\n",
    "        total_reward += reward\n",
    "        t += 1\n",
    "        if truncated:\n",
    "            print(\"Number of time-septs exceeds 100. STOP episode.\")\n",
    "        if done:\n",
    "            break\n",
    "\n",
    "    print(\"Episode finished after {} timesteps and reward was {} \".format(t, total_reward))\n",
    "    env.close()"
   ]
  },
  {
   "cell_type": "code",
   "execution_count": 17,
   "metadata": {
    "id": "WM2JvlXCXLyL",
    "outputId": "d1778590-979e-46b3-d5e2-95880fb79b15"
   },
   "outputs": [
    {
     "name": "stdout",
     "output_type": "stream",
     "text": [
      "Obs inicial: 0 \n",
      "Action: Down -> Obs: 4 and reward: -0.1\n",
      "Action: Down -> Obs: 8 and reward: -0.1\n",
      "Action: Down -> Obs: 12 and reward: -0.1\n",
      "Action: Right -> Obs: 13 and reward: -0.1\n",
      "Action: Right -> Obs: 14 and reward: -0.1\n",
      "Action: Right -> Obs: 15 and reward: -0.1\n",
      "Action: Stay -> Obs: 15 and reward: 1.0\n",
      "Episode finished after 7 timesteps and reward was 0.4 \n"
     ]
    }
   ],
   "source": [
    "######################## SOLUCIÓ ###########################\n",
    "execute_episode(Q_mc,env)"
   ]
  },
  {
   "cell_type": "markdown",
   "metadata": {
    "id": "Lrct3io-o6Da"
   },
   "source": [
    "<div style=\"background-color: #fcf2f2; border-color: #dfb5b4; border-left: 5px solid #dfb5b4; padding: 0.5em;\">\n",
    "<strong>Comentaris:</strong>\n",
    "<br><br>\n",
    "S'aconsegueix arribar a l'objectiu en 7 passes i el retorn és de 0.4.\n",
    "</div>"
   ]
  },
  {
   "cell_type": "markdown",
   "metadata": {
    "id": "pzg9iWfjXLyL"
   },
   "source": [
    "## 4. Mètodes d'Diferència Temporal (3.5 punts)\n",
    "\n",
    "L'objectiu d'aquest apartat és realitzar una estimació de la política òptima mitjançant els mètodes de Diferència Temporal en l'entorn *Gridworld* creat anteriorment."
   ]
  },
  {
   "cell_type": "markdown",
   "metadata": {
    "id": "ki2gKTTgo6Da"
   },
   "source": [
    "### 4.1. Mètode SARSA (2 punts)"
   ]
  },
  {
   "cell_type": "markdown",
   "metadata": {
    "id": "F3xqC9vCXLyL"
   },
   "source": [
    "<div style=\"background-color: #EDF7FF; border-color: #7C9DBF; border-left: 5px solid #7C9DBF; padding: 0.5em;\">\n",
    "<strong>Ejercicio 4.1.1</strong> (1 pt)\n",
    "\n",
    "Implementar l'algoritme *SARSA* explicat al mòdul 6 \"Aprenentatge per Diferència Temporal\" y executar-lo utilizant els següents paràmetres:\n",
    "<ul>    \n",
    "    <li>Número d'episodis = 10.000</li>\n",
    "    <li>learning rate = 0,2</li>\n",
    "    <li>discount factor = 1</li>\n",
    "    <li>epsilon = 0,5</li>\n",
    "    <li>epsilon decay = 0,9</li>\n",
    "    <li>mínim valor d'epsilon = 0,05</li>\n",
    "</ul>\n",
    "Actualitzar el valor d'epsilon segons: $$\\textrm{max}(\\epsilon · \\epsilon_{\\textrm{decay}}, \\epsilon_{\\textrm{min}})$$\n",
    "    </div>"
   ]
  },
  {
   "cell_type": "code",
   "execution_count": 18,
   "metadata": {
    "id": "e7kSqiTXo6De",
    "outputId": "5b3f1b1d-b202-40d4-df05-bc4ac20fb2d8"
   },
   "outputs": [
    {
     "name": "stdout",
     "output_type": "stream",
     "text": [
      "Action space is Discrete(5) \n",
      "Observation space is Discrete(16) \n"
     ]
    }
   ],
   "source": [
    "env = gym.make(\"Gym-Gridworlds/Ex2-4x4-v0\", render_mode=None)\n",
    "\n",
    "print(\"Action space is {} \".format(env.action_space))\n",
    "print(\"Observation space is {} \".format(env.observation_space))"
   ]
  },
  {
   "cell_type": "code",
   "execution_count": 19,
   "metadata": {
    "id": "AVl8eO3no6De"
   },
   "outputs": [],
   "source": [
    "######################## SOLUCIÓ ###########################\n",
    "\n",
    "def update_Q_sarsa(alpha, gamma, Q, state, action, reward, next_state=None, next_action=None):\n",
    "    \"\"\"Returns updated Q-value for the most recent experience.\"\"\"\n",
    "    current = Q[state][action]  # estimate in Q-table (for current state, action pair)\n",
    "    # get value of state, action pair at next time step\n",
    "    Qsa_next = Q[next_state][next_action] if next_state is not None else 0\n",
    "    target = reward + (gamma * Qsa_next)               # construct TD target\n",
    "    TD_error = target-current\n",
    "    new_value = current + (alpha * TD_error) # get updated value\n",
    "    return new_value, TD_error\n",
    "\n",
    "def epsilon_greedy(Q, state, nA, eps):\n",
    "    \"\"\"Selects epsilon-greedy action for supplied state.\n",
    "\n",
    "    Params\n",
    "    ======\n",
    "        Q (dictionary): action-value function\n",
    "        state (int): current state\n",
    "        nA (int): number actions in the environment\n",
    "        eps (float): epsilon\n",
    "    \"\"\"\n",
    "    if np.random.random() > eps: # select greedy action with probability epsilon\n",
    "        return np.argmax(Q[state])\n",
    "    else:                     # otherwise, select an action randomly\n",
    "        return np.random.choice(np.arange(env.action_space.n))"
   ]
  },
  {
   "cell_type": "code",
   "execution_count": 20,
   "metadata": {
    "id": "-RmgXQgwo6De"
   },
   "outputs": [],
   "source": [
    "######################## SOLUCIÓ ###########################\n",
    "\n",
    "def sarsa(env, num_episodes, alpha, gamma=1.0, epsilon=1, epsdecay=0.99, epsmin=0.01):\n",
    "    nA = env.action_space.n                # number of actions\n",
    "    Q = defaultdict(lambda: np.zeros(nA))  # initialize empty dictionary of arrays\n",
    "    deltas = []\n",
    "    eps =epsilon\n",
    "\n",
    "    for i_episode in range(1, num_episodes+1):\n",
    "        # monitor progress\n",
    "        if i_episode % 100 == 0:\n",
    "            print(\"\\rEpisode {}/{}\".format(i_episode, num_episodes), end=\"\")\n",
    "            sys.stdout.flush()\n",
    "        score = 0                                             # initialize score\n",
    "        state, info = env.reset()                                   # start episode\n",
    "        action = epsilon_greedy(Q, state, nA, eps)            # epsilon-greedy action selection\n",
    "        biggest_change = 0\n",
    "\n",
    "        while True:\n",
    "            next_state, reward, terminated, truncated, info = env.step(action) # take action A, observe R, S'\n",
    "            done = terminated or truncated\n",
    "            score += reward                                   # add reward to agent's score\n",
    "            if terminated:\n",
    "                Q[state][action], TD_error = update_Q_sarsa(alpha, gamma, Q, \\\n",
    "                                                  state, action, reward)\n",
    "            else:\n",
    "                next_action = epsilon_greedy(Q, next_state, nA, eps) # epsilon-greedy action\n",
    "                old_q = Q[state][action]\n",
    "                Q[state][action], TD_error = update_Q_sarsa(alpha, gamma, Q, \\\n",
    "                                                  state, action, reward, next_state, next_action)\n",
    "                state = next_state     # S <- S'\n",
    "                action = next_action   # A <- A'\n",
    "                \n",
    "            if done:\n",
    "                eps = max(epsilon*epsdecay, epsmin)           # actualize value of epsilon\n",
    "                break\n",
    "            biggest_change = max(biggest_change, np.abs(TD_error))\n",
    "        deltas.append(biggest_change)\n",
    "    print(\"\")\n",
    "    return Q, deltas"
   ]
  },
  {
   "cell_type": "code",
   "execution_count": 21,
   "metadata": {
    "id": "28VcP2XSo6Df",
    "outputId": "863a07f5-07bb-40d2-e094-17d04d97ef13"
   },
   "outputs": [
    {
     "name": "stdout",
     "output_type": "stream",
     "text": [
      "Episode 10000/10000\n",
      "CPU times: total: 4.34 s\n",
      "Wall time: 3.97 s\n"
     ]
    }
   ],
   "source": [
    "%%time\n",
    "######################## SOLUCIÓ ###########################\n",
    "# obtain the estimated optimal policy and corresponding action-value function\n",
    "Q_sarsa, deltas = sarsa(env, num_episodes=10000, alpha=0.2, gamma= 1, epsilon=0.5, epsdecay=0.9, epsmin=0.05)"
   ]
  },
  {
   "cell_type": "markdown",
   "metadata": {
    "id": "6DiHyZrPo6Df"
   },
   "source": [
    "<div style=\"background-color: #EDF7FF; border-color: #7C9DBF; border-left: 5px solid #7C9DBF; padding: 0.5em;\">\n",
    "<strong>Exercici 4.1.2</strong> (0.5 pts)\n",
    "Imprimir una gràfica amb l'evolució del més gran error TD de cada episodi. Atès que l'error té molta variància, imprimiu també la mitjana mòbil amb una finestra temporal de 100 episodis.\n",
    "</div>"
   ]
  },
  {
   "cell_type": "code",
   "execution_count": 22,
   "metadata": {
    "id": "dkwCZWFyo6Dg",
    "outputId": "87352783-d3cc-49d9-c4ca-b326ef15e15f"
   },
   "outputs": [
    {
     "data": {
      "image/png": "[encoded data removed]",
      "text/plain": [
       "<Figure size 640x480 with 1 Axes>"
      ]
     },
     "metadata": {},
     "output_type": "display_data"
    }
   ],
   "source": [
    "######################## SOLUCIÓ ###########################\n",
    "window = 100\n",
    "average_deltas = []\n",
    "for idx in range(len(deltas) - window + 1):\n",
    "    average_deltas.append(np.mean(deltas[idx:idx+window]))\n",
    "\n",
    "plt.subplot()\n",
    "plt.title('TD error per episode (moving average)')\n",
    "\n",
    "plt.plot(range(1,len(deltas)+1), deltas,  alpha=0.5, color='blue')\n",
    "plt.plot(range(1,len(average_deltas)+1), average_deltas,  linewidth=1, alpha=1, color='blue')\n",
    "\n",
    "plt.xlabel('Episodes')\n",
    "plt.ylabel('Max TD error/episode')\n",
    "plt.tight_layout()"
   ]
  },
  {
   "cell_type": "markdown",
   "metadata": {
    "id": "yyeJ3h_Zo6Dg"
   },
   "source": [
    "<div style=\"background-color: #EDF7FF; border-color: #7C9DBF; border-left: 5px solid #7C9DBF; padding: 0.5em;\">\n",
    "<strong>Ejercicio 4.1.3</strong> (0.25 pts)\n",
    "Imprimir la política trobada amb el mètode SARSA per a cada estat (podeu re-utilitzar la funció creada a l'apartat anterior dels mètodes MC). Es tracta d'una política òptima?\n",
    "</div>"
   ]
  },
  {
   "cell_type": "code",
   "execution_count": 23,
   "metadata": {
    "id": "4VdTWVywo6Dg",
    "outputId": "b638a953-4375-4418-db74-58cef7953957",
    "scrolled": true
   },
   "outputs": [
    {
     "name": "stdout",
     "output_type": "stream",
     "text": [
      "------------------------------------------\n",
      "  Down  |  Left  |  Left  |  Down  |\n",
      "------------------------------------------\n",
      "  Down  |  Left  |  Left  |  Down  |\n",
      "------------------------------------------\n",
      "  Down  |  Left  |  Left  |  Down  |\n",
      "------------------------------------------\n",
      "  Right  |  Right  |  Right  |  Stay  |\n",
      "----------------------------------------------\n"
     ]
    }
   ],
   "source": [
    "######################## SOLUCIÓ ###########################\n",
    "print_policy(Q_sarsa,4,4)"
   ]
  },
  {
   "cell_type": "markdown",
   "metadata": {
    "id": "sjOv-qalo6Dg"
   },
   "source": [
    "<div style=\"background-color: #fcf2f2; border-color: #dfb5b4; border-left: 5px solid #dfb5b4; padding: 0.5em;\">\n",
    "<strong>Comentaris:</strong>\n",
    "<br><br>\n",
    "La política obtinguda és l'òptima per a totes les caselles.\n",
    "</div>"
   ]
  },
  {
   "cell_type": "markdown",
   "metadata": {
    "id": "IrZzCKuco6Dh"
   },
   "source": [
    "<div style=\"background-color: #EDF7FF; border-color: #7C9DBF; border-left: 5px solid #7C9DBF; padding: 0.5em;\">\n",
    "<strong>Exercici 4.1.4</strong> (0.25 punts)\n",
    "Executar un episodi amb la política trobada i mostrar la trajectòria de l'agent i el retorn obtingut. Comentar els resultats.\n",
    "</div>"
   ]
  },
  {
   "cell_type": "code",
   "execution_count": 24,
   "metadata": {
    "id": "WuqVD8Rho6Dh",
    "outputId": "7872cb7e-ef04-4520-8593-ac21d7559d43"
   },
   "outputs": [
    {
     "name": "stdout",
     "output_type": "stream",
     "text": [
      "Obs inicial: 0 \n",
      "Action: Down -> Obs: 4 and reward: -0.1\n",
      "Action: Down -> Obs: 8 and reward: -0.1\n",
      "Action: Down -> Obs: 12 and reward: -0.1\n",
      "Action: Right -> Obs: 13 and reward: -0.1\n",
      "Action: Right -> Obs: 14 and reward: -0.1\n",
      "Action: Right -> Obs: 15 and reward: -0.1\n",
      "Action: Stay -> Obs: 15 and reward: 1.0\n",
      "Episode finished after 7 timesteps and reward was 0.4 \n"
     ]
    }
   ],
   "source": [
    "######################## SOLUCIÓ ###########################\n",
    "execute_episode(Q_sarsa,env)"
   ]
  },
  {
   "cell_type": "markdown",
   "metadata": {
    "id": "jHuQ8h2-o6Dh"
   },
   "source": [
    "<div style=\"background-color: #fcf2f2; border-color: #dfb5b4; border-left: 5px solid #dfb5b4; padding: 0.5em;\">\n",
    "<strong>Comentaris:</strong>\n",
    "<br><br>\n",
    "S'aconsegueix arribar a l'objectiu en 7 passes i el retorn és de 0.4.\n",
    "</div>"
   ]
  },
  {
   "cell_type": "markdown",
   "metadata": {
    "id": "crf25Isxo6Dh"
   },
   "source": [
    "### 4.2. Mètode Q-Learning (1.5 punts)"
   ]
  },
  {
   "cell_type": "markdown",
   "metadata": {
    "id": "uhRFZIyLo6Di"
   },
   "source": [
    "<div style=\"background-color: #EDF7FF; border-color: #7C9DBF; border-left: 5px solid #7C9DBF; padding: 0.5em;\">\n",
    "<strong>Ejercicio 4.2.1</strong> (0.75 pts)\n",
    "\n",
    "Implementar l'algoritme *Q-learning* explicat al mòdul 6 \"Aprenentatge per Diferència Temporal\" y executar-lo utilizant els següents paràmetres:\n",
    "<ul>    \n",
    "    <li>Número de episodios = 5.000</li>\n",
    "    <li>learning rate = 0,4</li>\n",
    "    <li>discount factor = 1</li>\n",
    "    <li>epsilon = 0,5</li>\n",
    "    <li>epsilon decay = 0,9</li>\n",
    "    <li>mínim valor d'epsilon = 0,05</li>\n",
    "</ul>\n",
    "Actualitzar el valor d'epsilon segons: $$\\textrm{max}(\\epsilon · \\epsilon_{\\textrm{decay}}, \\epsilon_{\\textrm{min}})$$\n",
    "    </div>"
   ]
  },
  {
   "cell_type": "code",
   "execution_count": 25,
   "metadata": {
    "id": "SuY9efT4XLyL",
    "outputId": "ba9b0251-c273-40cf-fc97-2c9d5cdff681"
   },
   "outputs": [
    {
     "name": "stdout",
     "output_type": "stream",
     "text": [
      "Action space is Discrete(5) \n",
      "Observation space is Discrete(16) \n"
     ]
    }
   ],
   "source": [
    "env = gym.make(\"Gym-Gridworlds/Ex2-4x4-v0\", render_mode=None)\n",
    "\n",
    "print(\"Action space is {} \".format(env.action_space))\n",
    "print(\"Observation space is {} \".format(env.observation_space))"
   ]
  },
  {
   "cell_type": "code",
   "execution_count": 26,
   "metadata": {
    "id": "Dke4cxRZo6Di"
   },
   "outputs": [],
   "source": [
    "######################## SOLUCIÓ ###########################\n",
    "\n",
    "def update_Q_qlearning(alpha, gamma, Q, state, action, reward, next_state=None):\n",
    "    \"\"\"Returns updated Q-value for the most recent experience.\"\"\"\n",
    "    current = Q[state][action]  # estimate in Q-table (for current state, action pair)\n",
    "    # get value of state, action pair at next time step\n",
    "    Qsa_next = np.max(Q[next_state]) if next_state is not None else 0  # Cambia esta línea\n",
    "    target = reward + (gamma * Qsa_next)      # construct TD target\n",
    "    TD_error = target - current\n",
    "    new_value = current + (alpha * TD_error)  # get updated value\n",
    "    return new_value, TD_error\n",
    "\n",
    "def epsilon_greedy(Q, state, nA, eps):\n",
    "    \"\"\"Selects epsilon-greedy action for supplied state.\n",
    "\n",
    "    Params\n",
    "    ======\n",
    "        Q (dictionary): action-value function\n",
    "        state (int): current state\n",
    "        nA (int): number actions in the environment\n",
    "        eps (float): epsilon\n",
    "    \"\"\"\n",
    "    if np.random.random() > eps: # select greedy action with probability epsilon\n",
    "        return np.argmax(Q[state])\n",
    "    else:                     # otherwise, select an action randomly\n",
    "        return np.random.choice(np.arange(env.action_space.n))"
   ]
  },
  {
   "cell_type": "code",
   "execution_count": 27,
   "metadata": {
    "id": "7kNXgJ0do6Dj"
   },
   "outputs": [],
   "source": [
    "######################## SOLUCIÓ ###########################\n",
    "def qlearning(env, num_episodes, alpha, gamma=1.0, epsilon=1, epsdecay=0.99, epsmin=0.01):\n",
    "    nA = env.action_space.n                # number of actions\n",
    "    Q = defaultdict(lambda: np.zeros(nA))  # initialize empty dictionary of arrays\n",
    "    deltas = []\n",
    "    eps = epsilon\n",
    "    for i_episode in range(1, num_episodes+1):\n",
    "        # monitor progress\n",
    "        if i_episode % 100 == 0:\n",
    "            print(\"\\rEpisode {}/{}\".format(i_episode, num_episodes), end=\"\")\n",
    "            sys.stdout.flush()\n",
    "        score = 0                          # initialize score\n",
    "        state, info = env.reset()          # start episode\n",
    "        biggest_change = 0\n",
    "\n",
    "        while True:\n",
    "            action = epsilon_greedy(Q, state, nA, eps)  # epsilon-greedy action selection\n",
    "            next_state, reward, terminated, truncated, info = env.step(action)  # take action A, observe R, S'\n",
    "            done = terminated or truncated\n",
    "            score += reward                  # add reward to agent's score\n",
    "\n",
    "            old_q = Q[state][action]\n",
    "\n",
    "            if not terminated:\n",
    "                Q[state][action], TD_error = update_Q_qlearning(alpha, gamma, Q, \\\n",
    "                                                                state, action, reward, next_state)\n",
    "            else:\n",
    "                Q[state][action], TD_error = update_Q_qlearning(alpha, gamma, Q, \\\n",
    "                                                                state, action, reward, None)\n",
    "\n",
    "            state = next_state         # S <- S'\n",
    "            if done:\n",
    "                eps = max(epsilon*epsdecay, epsmin)  # set value of epsilon\n",
    "                break\n",
    "            biggest_change = max(biggest_change, np.abs(TD_error))\n",
    "        deltas.append(biggest_change)\n",
    "    print(\"\")\n",
    "    return Q, deltas"
   ]
  },
  {
   "cell_type": "code",
   "execution_count": 28,
   "metadata": {
    "id": "tdTGX9leo6Dj",
    "outputId": "aafcd43b-2226-4b9c-9cec-de74827940f1"
   },
   "outputs": [
    {
     "name": "stdout",
     "output_type": "stream",
     "text": [
      "Episode 5000/5000\n",
      "CPU times: total: 2.31 s\n",
      "Wall time: 2.17 s\n"
     ]
    }
   ],
   "source": [
    "%%time\n",
    "######################## SOLUCIÓ ###########################\n",
    "# obtain the estimated optimal policy and corresponding action-value function\n",
    "Q_qlearning, deltas = qlearning(env, num_episodes=5000, alpha=0.4, gamma= 1, epsilon=0.5, epsdecay=0.9, epsmin=0.05)"
   ]
  },
  {
   "cell_type": "markdown",
   "metadata": {
    "id": "n8-7XCn3o6Dj"
   },
   "source": [
    "<div style=\"background-color: #EDF7FF; border-color: #7C9DBF; border-left: 5px solid #7C9DBF; padding: 0.5em;\">\n",
    "<strong>Exercici 4.2.2</strong> (0.25 pts)\n",
    "Imprimir una gràfica amb l'evolució del més gran error TD de cada episodi. Atès que l'error té molta variància, imprimiu també la mitjana mòbil amb una finestra temporal de 100 episodis.\n",
    "</div>"
   ]
  },
  {
   "cell_type": "code",
   "execution_count": 29,
   "metadata": {
    "id": "0T8mjY69o6Dj",
    "outputId": "355b2f1b-7125-4f02-91c3-43dcc07ecbdf"
   },
   "outputs": [
    {
     "data": {
      "image/png": "[encoded data removed]",
      "text/plain": [
       "<Figure size 640x480 with 1 Axes>"
      ]
     },
     "metadata": {},
     "output_type": "display_data"
    }
   ],
   "source": [
    "######################## SOLUCIÓ ###########################\n",
    "window = 100\n",
    "average_deltas = []\n",
    "for idx in range(len(deltas) - window + 1):\n",
    "    average_deltas.append(np.mean(deltas[idx:idx+window]))\n",
    "\n",
    "plt.subplot()\n",
    "plt.title('TD error per episode (moving average)')\n",
    "\n",
    "plt.plot(range(1,len(deltas)+1), deltas,  alpha=0.5, color='blue')\n",
    "plt.plot(range(1,len(average_deltas)+1), average_deltas,  linewidth=1, alpha=1, color='blue')\n",
    "\n",
    "plt.xlabel('Episodes')\n",
    "plt.ylabel('Max TD error/episode')\n",
    "plt.tight_layout()"
   ]
  },
  {
   "cell_type": "markdown",
   "metadata": {
    "id": "ShreNOxio6Dk"
   },
   "source": [
    "<div style=\"background-color: #EDF7FF; border-color: #7C9DBF; border-left: 5px solid #7C9DBF; padding: 0.5em;\">\n",
    "<strong>Ejercicio 4.2.3</strong> (0.25 pts)\n",
    "Imprimir la política trobada amb el mètode Q-learning per a cada estat (podeu re-utilitzar la funció creada a l'apartat anterior). Es tracta d'una política òptima?\n",
    "</div>"
   ]
  },
  {
   "cell_type": "code",
   "execution_count": 30,
   "metadata": {
    "id": "tmv7fTIho6Dl",
    "outputId": "cdeecda0-e719-4397-c67b-9fb9552c4a6b"
   },
   "outputs": [
    {
     "name": "stdout",
     "output_type": "stream",
     "text": [
      "------------------------------------------\n",
      "  Down  |  Left  |  Left  |  Down  |\n",
      "------------------------------------------\n",
      "  Down  |  Left  |  Left  |  Down  |\n",
      "------------------------------------------\n",
      "  Down  |  Left  |  Left  |  Down  |\n",
      "------------------------------------------\n",
      "  Right  |  Right  |  Right  |  Stay  |\n",
      "----------------------------------------------\n"
     ]
    }
   ],
   "source": [
    "######################## SOLUCIÓ ###########################\n",
    "print_policy(Q_qlearning,4,4)"
   ]
  },
  {
   "cell_type": "markdown",
   "metadata": {
    "id": "__ZLbRN1o6Dl"
   },
   "source": [
    "<div style=\"background-color: #fcf2f2; border-color: #dfb5b4; border-left: 5px solid #dfb5b4; padding: 0.5em;\">\n",
    "<strong>Comentaris:</strong>\n",
    "<br><br>\n",
    "La política obtinguda és l'òptima per a totes les caselles.\n",
    "</div>"
   ]
  },
  {
   "cell_type": "markdown",
   "metadata": {
    "id": "XpxKsr_Fo6Dm"
   },
   "source": [
    "<div style=\"background-color: #EDF7FF; border-color: #7C9DBF; border-left: 5px solid #7C9DBF; padding: 0.5em;\">\n",
    "<strong>Exercici 4.2.4</strong> (0.25 punts)\n",
    "Executar un episodi amb la política trobada i mostrar la trajectòria de l'agent i el retorn obtingut. Comentar els resultats.\n",
    "</div>"
   ]
  },
  {
   "cell_type": "code",
   "execution_count": 31,
   "metadata": {
    "id": "To0jgR5Ko6Dm",
    "outputId": "0eaf0091-3e13-4ffd-f9f5-74c85ee0985a"
   },
   "outputs": [
    {
     "name": "stdout",
     "output_type": "stream",
     "text": [
      "Obs inicial: 0 \n",
      "Action: Down -> Obs: 4 and reward: -0.1\n",
      "Action: Down -> Obs: 8 and reward: -0.1\n",
      "Action: Down -> Obs: 12 and reward: -0.1\n",
      "Action: Right -> Obs: 13 and reward: -0.1\n",
      "Action: Right -> Obs: 14 and reward: -0.1\n",
      "Action: Right -> Obs: 15 and reward: -0.1\n",
      "Action: Stay -> Obs: 15 and reward: 1.0\n",
      "Episode finished after 7 timesteps and reward was 0.4 \n"
     ]
    }
   ],
   "source": [
    "######################## SOLUCIÓ ###########################\n",
    "execute_episode(Q_qlearning,env)"
   ]
  },
  {
   "cell_type": "markdown",
   "metadata": {
    "id": "zZrh-N5mo6Dn"
   },
   "source": [
    "<div style=\"background-color: #fcf2f2; border-color: #dfb5b4; border-left: 5px solid #dfb5b4; padding: 0.5em;\">\n",
    "<strong>Comentaris:</strong>\n",
    "<br><br>\n",
    "S'aconsegueix arribar a l'objectiu en 7 passes i el retorn és de 0.4.\n",
    "</div>"
   ]
  },
  {
   "cell_type": "markdown",
   "metadata": {
    "id": "LjWsuHJEXLyN"
   },
   "source": [
    "## 5. Comparativa dels algoritmes (0.5 punts)\n",
    "\n",
    "En aquest apartat farem una petita comparativa dels mètodes programats en els apartats anteriors.\n",
    "\n",
    "Compararem el comportament dels algoritmes en termens de la política assolida, la duració de l'entrenament i el factor de descompte.\n"
   ]
  },
  {
   "cell_type": "markdown",
   "metadata": {
    "id": "E9sS5ijiXLyO"
   },
   "source": [
    "<div style=\"background-color: #EDF7FF; border-color: #7C9DBF; border-left: 5px solid #7C9DBF; padding: 0.5em;\">\n",
    "<strong>Exercici 5.1 - Anàlisi de les polítiques obtingudes i del temps de convergència</strong> (0,25 punts)\n",
    "\n",
    "Realitzar un estudi de les polítiques obtingudes responent a les següents preguntes:\n",
    "<ul>\n",
    "  <li>Tots els algoritmes aconsegueixen arribar a la política òptima?</li>\n",
    "  <li>Triguen el mateix temps en convergir?</li>\n",
    "  <li>A què poden ser degudes les diferències?</li>\n",
    "</ul>\n",
    "<b>Nota: Es recomana excutar cada algoritme diverses vegades per extreure unes conclusions més consistents.</b>\n",
    "</div>"
   ]
  },
  {
   "cell_type": "markdown",
   "metadata": {
    "id": "RBncS-4SXLyO"
   },
   "source": [
    "<div style=\"background-color: #fcf2f2; border-color: #dfb5b4; border-left: 5px solid #dfb5b4; padding: 0.5em;\">\n",
    "<strong>CONCLUSIONS:</strong>\n",
    "<br>\n",
    "    Tots tres mètodes, amb els hiperparàmetres proporcionats, assoleixen la convergència a la política òptima però els mètodes TD (SARSA i Q-learning) ho fan en molts menys episodis que el mètode de Montecarlo, cosa que fa que el temps d'entrenament dels mètodes TD sigui molt inferior a MC. Això és degut a que els mètodes TD es van actualitzant a cada pas i no han d'esperar fins al final de l'episodi per fer l'actualització de l'algoritme com li passa al mètode de Montecarlo.\n",
    "</div>"
   ]
  },
  {
   "cell_type": "markdown",
   "metadata": {
    "id": "kMobYk_5XLyO"
   },
   "source": [
    "<div style=\"background-color: #EDF7FF; border-color: #7C9DBF; border-left: 5px solid #7C9DBF; padding: 0.5em;\">\n",
    "<strong>Exercici 5.2 - Influència del factor de descompte (discount factor)</strong> (0,25 punts)\n",
    "\n",
    "Tots els agents s'han entrenat amb recompenses sense descomptar (factor de descompte = 1). A què creus que es deu aquesta elecció? Creus que millorarien els resultats si s'utilitza un factor de descompte diferent? Per què? En cas afirmatiu, selecciona un nou factor de descompte i testeja'l a algun dels algortimes (per exemple a Q-learning).\n",
    "</div>"
   ]
  },
  {
   "cell_type": "code",
   "execution_count": 32,
   "metadata": {
    "id": "bS2P1vMYXLyP"
   },
   "outputs": [],
   "source": [
    "#SOLUCIÓ"
   ]
  },
  {
   "cell_type": "markdown",
   "metadata": {
    "id": "qlNW-nJYXLyP"
   },
   "source": [
    "<div style=\"background-color: #fcf2f2; border-color: #dfb5b4; border-left: 5px solid #dfb5b4; padding: 0.5em;\">\n",
    "<strong>CONCLUSIONS:</strong>\n",
    "<br><br>\n",
    "    \n",
    "Donat que l'única recompensa positiva es troba al final de l'episodi (a la casella objectiu) es pot considerar que aquesta és la recompensa més important i ha de tenir la mateixa importància que la resta. Per tant, un factor de descompte menor que 1 desvirtuaria el seu valor.\n",
    "</div>"
   ]
  },
  {
   "cell_type": "markdown",
   "metadata": {
    "id": "E1FNdpDAo6Dp"
   },
   "source": [
    "Tanquem l'entorn perquè als següents apartats en crearem un de nou"
   ]
  },
  {
   "cell_type": "code",
   "execution_count": 33,
   "metadata": {
    "id": "4kH2b5D5o6Dq"
   },
   "outputs": [],
   "source": [
    "env.close()"
   ]
  },
  {
   "cell_type": "markdown",
   "metadata": {
    "id": "yfRRHd3Bo6Dq"
   },
   "source": [
    "## 6. Diferència de polítiques entre SARSA i Q-Learning (1.5 punts)\n",
    "\n",
    "En aquest darrer apartat dissenyarem un entorn una mica més complicat i compararem les diferents polítiques que assoleixen els mètodes SARSA i Q-learning.\n",
    "\n",
    "Per a això es demana:\n"
   ]
  },
  {
   "cell_type": "markdown",
   "metadata": {
    "id": "cIdDvu4Eo6Dq"
   },
   "source": [
    "<div style=\"background-color: #EDF7FF; border-color: #7C9DBF; border-left: 5px solid #7C9DBF; padding: 0.5em;\">\n",
    "<strong>Exercici 6.1</strong> (0,5 punts)\n",
    "\n",
    "Crear un entorn nou amb una graella 5x5 com la que s'observa a continuació (utilitzeu <code>\"5X5_Ex6\"</code> com a clau de l'entrada al diccionari <code>GRIDS</code>.):\n",
    "<br><br>\n",
    "<img src=\"images/Gym-Gridworld_Ex6_5x5.png\" alt=\"Mi imagen\" style=\"display: block; margin-left: auto; margin-right: auto;\">\n",
    "<br>\n",
    "Fixeu-vos que la casella inicial no es troba a dalt a l'esquerra si no a la meitat de la primera columna. Per a aconseguir això heu de crear una sub-classe de la classe <code>Gridworld</code> i afegir-la al final de l'arxiu <code>\\gym_gridworlds\\gridworld.py</code> (en el mateix arxiu teniu algun exemple).\n",
    "\n",
    "Enrecordeu-vos de registrar l'entorn a l'arxiu <code>\\gym_gridworlds\\\\\\_\\_init\\_\\_.py</code> amb els paràmetres pertinents (fixeu-vos en altres registres com es crida a una sub-classe), reiniciar el kernel del Notebook i tornar a importar els paquets.\n",
    "\n",
    "L'entorn s'ha de poder cridar amb el següent codi:\n",
    "\n",
    "</div>"
   ]
  },
  {
   "cell_type": "code",
   "execution_count": 34,
   "metadata": {
    "id": "xk7M0fuBo6Dq",
    "outputId": "bf10deea-4844-4605-b379-9156ca95aed6"
   },
   "outputs": [
    {
     "name": "stdout",
     "output_type": "stream",
     "text": [
      "Action space is Discrete(5) \n",
      "Observation space is Discrete(25) \n"
     ]
    }
   ],
   "source": [
    "env = gym.make(\"Gym-Gridworlds/Ex6-5x5-v0\", render_mode=\"human\")\n",
    "env.reset()\n",
    "env.render()\n",
    "print(\"Action space is {} \".format(env.action_space))\n",
    "print(\"Observation space is {} \".format(env.observation_space))"
   ]
  },
  {
   "cell_type": "code",
   "execution_count": 35,
   "metadata": {
    "id": "9TNBKrI5o6Dr"
   },
   "outputs": [],
   "source": [
    "env.close()"
   ]
  },
  {
   "cell_type": "markdown",
   "metadata": {
    "id": "6nuLNFbxo6Dr"
   },
   "source": [
    "<div style=\"background-color: #EDF7FF; border-color: #7C9DBF; border-left: 5px solid #7C9DBF; padding: 0.5em;\">\n",
    "<strong>Exercici 6.2 - Entrenament i comparativa dels agents</strong> (1 punt)\n",
    "\n",
    "<ol>\n",
    "  <li>Entrena els 2 agents TD (SARSA i Q-learning) en el nou entorn. Ajusta els diferents paràmetres fins que els algoritmes convergeixin.</li>\n",
    "  <li>Imprimeix per pantalla la política assolida per cada agent.</li>\n",
    "  <li>Executa un episodi amb cada política i mostra els resultats (accions, recorregut i recompensa total).</li>\n",
    "  <li>Comenta els resultats. Són els resultats esperats?</li>\n",
    "</ol>\n",
    "\n",
    "</div>"
   ]
  },
  {
   "cell_type": "code",
   "execution_count": 44,
   "metadata": {
    "id": "pyL5R8Reo6Dr",
    "outputId": "b535953c-d99a-4a53-ea98-d9cbba020732"
   },
   "outputs": [
    {
     "name": "stdout",
     "output_type": "stream",
     "text": [
      "Action space is Discrete(5) \n",
      "Observation space is Discrete(25) \n"
     ]
    }
   ],
   "source": [
    "env = gym.make(\"Gym-Gridworlds/Ex6-5x5-v0\", render_mode=None)\n",
    "\n",
    "print(\"Action space is {} \".format(env.action_space))\n",
    "print(\"Observation space is {} \".format(env.observation_space))"
   ]
  },
  {
   "cell_type": "code",
   "execution_count": 45,
   "metadata": {
    "id": "RSEfQOzzo6Dr",
    "outputId": "10edc0cd-4857-4118-c886-223be03c0f7d"
   },
   "outputs": [
    {
     "name": "stdout",
     "output_type": "stream",
     "text": [
      "Episode 30000/30000\n",
      "CPU times: total: 59 s\n",
      "Wall time: 56.9 s\n"
     ]
    }
   ],
   "source": [
    "%%time\n",
    "######################## SOLUCIÓ ###########################\n",
    "#Entrenament SARSA\n",
    "# obtain the estimated optimal policy and corresponding action-value function\n",
    "Q_sarsa, deltas = sarsa(env, num_episodes=30000, alpha=0.3, gamma= 1, epsilon=0.9, epsdecay=0.9, epsmin=0.05)"
   ]
  },
  {
   "cell_type": "code",
   "execution_count": 38,
   "metadata": {},
   "outputs": [],
   "source": [
    "env = gym.make(\"Gym-Gridworlds/Ex6-5x5-v0\", render_mode=None)"
   ]
  },
  {
   "cell_type": "code",
   "execution_count": 39,
   "metadata": {
    "id": "DmWO1DtWo6Ds",
    "outputId": "b3fca137-30a1-4162-9aa1-4ebf94aaa988"
   },
   "outputs": [
    {
     "name": "stdout",
     "output_type": "stream",
     "text": [
      "Episode 30000/30000\n",
      "CPU times: total: 41.3 s\n",
      "Wall time: 40.3 s\n"
     ]
    }
   ],
   "source": [
    "%%time\n",
    "######################## SOLUCIÓ ###########################\n",
    "#Entrenament Q-learning\n",
    "# obtain the estimated optimal policy and corresponding action-value function\n",
    "Q_qlearning, deltas = qlearning(env, num_episodes=30000, alpha=0.3, gamma= 1, epsilon=0.75, epsdecay=1, epsmin=0.05)"
   ]
  },
  {
   "cell_type": "code",
   "execution_count": 46,
   "metadata": {
    "id": "stzJkez1o6Ds",
    "outputId": "4a9df838-07a6-45f3-93aa-2fc64e950ed3"
   },
   "outputs": [
    {
     "name": "stdout",
     "output_type": "stream",
     "text": [
      "------------------------------------------\n",
      "  Right  |  Right  |  Right  |  Right  |  Down  |\n",
      "------------------------------------------\n",
      "  Up  |  Left  |  Left  |  Left  |  Down  |\n",
      "------------------------------------------\n",
      "  Up  |  Left  |  Stay  |  Left  |  Left  |\n",
      "------------------------------------------\n",
      "  Up  |  Down  |  Up  |  Up  |  Up  |\n",
      "------------------------------------------\n",
      "  Up  |  Right  |  Right  |  Up  |  Right  |\n",
      "----------------------------------------------\n"
     ]
    }
   ],
   "source": [
    "######################## SOLUCIÓ ###########################\n",
    "#Política SARSA\n",
    "print_policy(Q_sarsa,5,5)"
   ]
  },
  {
   "cell_type": "code",
   "execution_count": 47,
   "metadata": {
    "id": "Q6jJxaaco6Ds",
    "outputId": "e49cc958-4d27-4875-b74e-1c3276559175"
   },
   "outputs": [
    {
     "name": "stdout",
     "output_type": "stream",
     "text": [
      "Obs inicial: 10 \n",
      "Action: Up -> Obs: 5 and reward: -0.1\n",
      "Action: Up -> Obs: 0 and reward: -0.1\n",
      "Action: Right -> Obs: 1 and reward: -0.1\n",
      "Action: Right -> Obs: 2 and reward: -0.1\n",
      "Action: Right -> Obs: 3 and reward: -0.1\n",
      "Action: Right -> Obs: 4 and reward: -0.1\n",
      "Action: Down -> Obs: 9 and reward: -0.1\n",
      "Action: Down -> Obs: 14 and reward: -0.1\n",
      "Action: Left -> Obs: 13 and reward: -0.1\n",
      "Action: Left -> Obs: 12 and reward: -0.1\n",
      "Action: Stay -> Obs: 12 and reward: 1.0\n",
      "Episode finished after 11 timesteps and reward was 1.1102230246251565e-16 \n"
     ]
    }
   ],
   "source": [
    "######################## SOLUCIÓ ###########################\n",
    "#Execució episodi SARSA\n",
    "execute_episode(Q_sarsa,env)"
   ]
  },
  {
   "cell_type": "code",
   "execution_count": 42,
   "metadata": {
    "id": "sdRn3a-Lo6Dt",
    "outputId": "a9001583-a6cf-4963-d991-599296869ff3"
   },
   "outputs": [
    {
     "name": "stdout",
     "output_type": "stream",
     "text": [
      "------------------------------------------\n",
      "  Right  |  Right  |  Right  |  Right  |  Down  |\n",
      "------------------------------------------\n",
      "  Down  |  Left  |  Left  |  Left  |  Down  |\n",
      "------------------------------------------\n",
      "  Down  |  Left  |  Stay  |  Left  |  Left  |\n",
      "------------------------------------------\n",
      "  Down  |  Down  |  Up  |  Up  |  Left  |\n",
      "------------------------------------------\n",
      "  Right  |  Right  |  Right  |  Up  |  Left  |\n",
      "----------------------------------------------\n"
     ]
    }
   ],
   "source": [
    "######################## SOLUCIÓ ###########################\n",
    "#Política O-learning\n",
    "print_policy(Q_qlearning,5,5)"
   ]
  },
  {
   "cell_type": "code",
   "execution_count": 43,
   "metadata": {
    "id": "5wxk6Txko6Dt",
    "outputId": "93aaee17-a580-472b-c506-816b8e59a53c"
   },
   "outputs": [
    {
     "name": "stdout",
     "output_type": "stream",
     "text": [
      "Obs inicial: 10 \n",
      "Action: Down -> Obs: 15 and reward: -0.1\n",
      "Action: Down -> Obs: 20 and reward: -0.1\n",
      "Action: Right -> Obs: 21 and reward: -0.1\n",
      "Action: Right -> Obs: 22 and reward: -0.1\n",
      "Action: Right -> Obs: 23 and reward: -0.1\n",
      "Action: Up -> Obs: 18 and reward: -0.1\n",
      "Action: Up -> Obs: 13 and reward: -0.1\n",
      "Action: Left -> Obs: 12 and reward: -0.1\n",
      "Action: Stay -> Obs: 12 and reward: 1.0\n",
      "Episode finished after 9 timesteps and reward was 0.20000000000000007 \n"
     ]
    }
   ],
   "source": [
    "######################## SOLUCIÓ ###########################\n",
    "#Execució episodi Q-learning\n",
    "execute_episode(Q_qlearning,env)"
   ]
  },
  {
   "cell_type": "markdown",
   "metadata": {
    "id": "PLONPuAqo6Dt"
   },
   "source": [
    "<div style=\"background-color: #fcf2f2; border-color: #dfb5b4; border-left: 5px solid #dfb5b4; padding: 0.5em;\">\n",
    "<strong>CONCLUSIONS:</strong>\n",
    "<br>\n",
    "En base als resultats obtinguts s'observa que:  \n",
    "<ul>\n",
    "  <li>Tots 2 arriben a assolir l'objectiu.</li>\n",
    "  <li>Q-learning aprèn la política òptima. Arriba en 9 passes i obté un retorn de 0.2</li>\n",
    "  <li>SARSA aprèn una política sub-òptima més conservadora. Arriba en 11 passes i obté un retorn de 0, però evita passar a prop de les caselles amb major penalització.</li>\n",
    "</ul>\n",
    "Aquest comportament dels 2 algoritmes és l'esperat tal i com es va veure al mòdul de teoria.\n",
    "</div>"
   ]
  }
 ],
 "metadata": {
  "colab": {
   "provenance": []
  },
  "kernelspec": {
   "display_name": "Python 3 (ipykernel)",
   "language": "python",
   "name": "python3"
  },
  "language_info": {
   "codemirror_mode": {
    "name": "ipython",
    "version": 3
   },
   "file_extension": ".py",
   "mimetype": "text/x-python",
   "name": "python",
   "nbconvert_exporter": "python",
   "pygments_lexer": "ipython3",
   "version": "3.9.20"
  }
 },
 "nbformat": 4,
 "nbformat_minor": 4
}
